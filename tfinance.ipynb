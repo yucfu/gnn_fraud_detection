{
 "cells": [
  {
   "cell_type": "code",
   "execution_count": 2,
   "metadata": {},
   "outputs": [],
   "source": [
    "import dgl\n",
    "import numpy as np\n",
    "import pandas as pd\n",
    "import torch\n",
    "\n",
    "from dgl.data.utils import load_graphs, save_graphs"
   ]
  },
  {
   "cell_type": "code",
   "execution_count": 2,
   "metadata": {},
   "outputs": [],
   "source": [
    "# import os\n",
    "# os.environ['CUDA_LAUNCH_BLOCKING'] = '1'"
   ]
  },
  {
   "cell_type": "code",
   "execution_count": 3,
   "metadata": {},
   "outputs": [],
   "source": [
    "graph, label_dict = load_graphs('data/tfinance/tfinance')\n",
    "graph = graph[0]\n",
    "graph.ndata['label'] = graph.ndata['label'].argmax(1)"
   ]
  },
  {
   "cell_type": "code",
   "execution_count": 4,
   "metadata": {},
   "outputs": [
    {
     "data": {
      "text/plain": [
       "(tensor([    0,     0,     0,  ..., 39356, 39356, 39356]),\n",
       " tensor([20227,  1031, 26251,  ..., 34798, 35855, 36455]))"
      ]
     },
     "execution_count": 4,
     "metadata": {},
     "output_type": "execute_result"
    }
   ],
   "source": [
    "graph.edges()"
   ]
  },
  {
   "cell_type": "code",
   "execution_count": 5,
   "metadata": {},
   "outputs": [],
   "source": [
    "edges = pd.DataFrame({'ID1': graph.edges()[0], 'ID2': graph.edges()[1]})\n",
    "features = pd.DataFrame(graph.ndata['feature'].numpy(), columns=[f'feature{i+1}' for i in range(10)])\n",
    "labels = pd.DataFrame(graph.ndata['label'].numpy(), columns=['label'])"
   ]
  },
  {
   "cell_type": "code",
   "execution_count": 123,
   "metadata": {},
   "outputs": [
    {
     "name": "stdout",
     "output_type": "stream",
     "text": [
      "shape of edge index is torch.Size([2, 42445086])\n"
     ]
    }
   ],
   "source": [
    "# # edges = df_edges.copy()\n",
    "\n",
    "# # Reformat and convert to tensor\n",
    "# edge_index = np.array(edges.values).T \n",
    "# edge_index = torch.tensor(edge_index, dtype=torch.long).contiguous()\n",
    "\n",
    "# print(\"shape of edge index is {}\".format(edge_index.shape))"
   ]
  },
  {
   "cell_type": "code",
   "execution_count": 6,
   "metadata": {},
   "outputs": [
    {
     "data": {
      "text/html": [
       "<div>\n",
       "<style scoped>\n",
       "    .dataframe tbody tr th:only-of-type {\n",
       "        vertical-align: middle;\n",
       "    }\n",
       "\n",
       "    .dataframe tbody tr th {\n",
       "        vertical-align: top;\n",
       "    }\n",
       "\n",
       "    .dataframe thead th {\n",
       "        text-align: right;\n",
       "    }\n",
       "</style>\n",
       "<table border=\"1\" class=\"dataframe\">\n",
       "  <thead>\n",
       "    <tr style=\"text-align: right;\">\n",
       "      <th></th>\n",
       "      <th>feature1</th>\n",
       "      <th>feature2</th>\n",
       "      <th>feature3</th>\n",
       "      <th>feature4</th>\n",
       "      <th>feature5</th>\n",
       "      <th>feature6</th>\n",
       "      <th>feature7</th>\n",
       "      <th>feature8</th>\n",
       "      <th>feature9</th>\n",
       "      <th>feature10</th>\n",
       "    </tr>\n",
       "  </thead>\n",
       "  <tbody>\n",
       "    <tr>\n",
       "      <th>0</th>\n",
       "      <td>1296.0</td>\n",
       "      <td>259.0</td>\n",
       "      <td>2.0</td>\n",
       "      <td>12.0</td>\n",
       "      <td>36.0</td>\n",
       "      <td>52.0</td>\n",
       "      <td>14.0</td>\n",
       "      <td>40.0</td>\n",
       "      <td>0.229938</td>\n",
       "      <td>0.083333</td>\n",
       "    </tr>\n",
       "    <tr>\n",
       "      <th>1</th>\n",
       "      <td>1943.0</td>\n",
       "      <td>1838.0</td>\n",
       "      <td>312.0</td>\n",
       "      <td>72.0</td>\n",
       "      <td>34.0</td>\n",
       "      <td>491.0</td>\n",
       "      <td>6.0</td>\n",
       "      <td>486.0</td>\n",
       "      <td>0.091096</td>\n",
       "      <td>0.029336</td>\n",
       "    </tr>\n",
       "    <tr>\n",
       "      <th>2</th>\n",
       "      <td>2306.0</td>\n",
       "      <td>573.0</td>\n",
       "      <td>53.0</td>\n",
       "      <td>19.0</td>\n",
       "      <td>283.0</td>\n",
       "      <td>172.0</td>\n",
       "      <td>48.0</td>\n",
       "      <td>141.0</td>\n",
       "      <td>0.096704</td>\n",
       "      <td>0.022984</td>\n",
       "    </tr>\n",
       "    <tr>\n",
       "      <th>3</th>\n",
       "      <td>14.0</td>\n",
       "      <td>908.0</td>\n",
       "      <td>13.0</td>\n",
       "      <td>0.0</td>\n",
       "      <td>871.0</td>\n",
       "      <td>26.0</td>\n",
       "      <td>1.0</td>\n",
       "      <td>25.0</td>\n",
       "      <td>0.285714</td>\n",
       "      <td>0.071429</td>\n",
       "    </tr>\n",
       "    <tr>\n",
       "      <th>4</th>\n",
       "      <td>499.0</td>\n",
       "      <td>530.0</td>\n",
       "      <td>6.0</td>\n",
       "      <td>7.0</td>\n",
       "      <td>404.0</td>\n",
       "      <td>53.0</td>\n",
       "      <td>22.0</td>\n",
       "      <td>32.0</td>\n",
       "      <td>0.232465</td>\n",
       "      <td>0.146293</td>\n",
       "    </tr>\n",
       "    <tr>\n",
       "      <th>...</th>\n",
       "      <td>...</td>\n",
       "      <td>...</td>\n",
       "      <td>...</td>\n",
       "      <td>...</td>\n",
       "      <td>...</td>\n",
       "      <td>...</td>\n",
       "      <td>...</td>\n",
       "      <td>...</td>\n",
       "      <td>...</td>\n",
       "      <td>...</td>\n",
       "    </tr>\n",
       "    <tr>\n",
       "      <th>14995</th>\n",
       "      <td>367.0</td>\n",
       "      <td>244.0</td>\n",
       "      <td>27.0</td>\n",
       "      <td>17.0</td>\n",
       "      <td>26.0</td>\n",
       "      <td>66.0</td>\n",
       "      <td>7.0</td>\n",
       "      <td>61.0</td>\n",
       "      <td>0.564033</td>\n",
       "      <td>0.564033</td>\n",
       "    </tr>\n",
       "    <tr>\n",
       "      <th>14996</th>\n",
       "      <td>79.0</td>\n",
       "      <td>8587.0</td>\n",
       "      <td>3.0</td>\n",
       "      <td>5.0</td>\n",
       "      <td>8578.0</td>\n",
       "      <td>6.0</td>\n",
       "      <td>1.0</td>\n",
       "      <td>5.0</td>\n",
       "      <td>0.101266</td>\n",
       "      <td>0.025316</td>\n",
       "    </tr>\n",
       "    <tr>\n",
       "      <th>14997</th>\n",
       "      <td>329.0</td>\n",
       "      <td>1634.0</td>\n",
       "      <td>80.0</td>\n",
       "      <td>19.0</td>\n",
       "      <td>29.0</td>\n",
       "      <td>223.0</td>\n",
       "      <td>10.0</td>\n",
       "      <td>221.0</td>\n",
       "      <td>0.291793</td>\n",
       "      <td>0.188450</td>\n",
       "    </tr>\n",
       "    <tr>\n",
       "      <th>14998</th>\n",
       "      <td>133.0</td>\n",
       "      <td>7342.0</td>\n",
       "      <td>16.0</td>\n",
       "      <td>7.0</td>\n",
       "      <td>208.0</td>\n",
       "      <td>124.0</td>\n",
       "      <td>11.0</td>\n",
       "      <td>122.0</td>\n",
       "      <td>0.428571</td>\n",
       "      <td>0.300752</td>\n",
       "    </tr>\n",
       "    <tr>\n",
       "      <th>14999</th>\n",
       "      <td>440.0</td>\n",
       "      <td>1026.0</td>\n",
       "      <td>430.0</td>\n",
       "      <td>0.0</td>\n",
       "      <td>125.0</td>\n",
       "      <td>373.0</td>\n",
       "      <td>4.0</td>\n",
       "      <td>371.0</td>\n",
       "      <td>0.184091</td>\n",
       "      <td>0.047727</td>\n",
       "    </tr>\n",
       "  </tbody>\n",
       "</table>\n",
       "<p>15000 rows × 10 columns</p>\n",
       "</div>"
      ],
      "text/plain": [
       "       feature1  feature2  feature3  feature4  feature5  feature6  feature7  \\\n",
       "0        1296.0     259.0       2.0      12.0      36.0      52.0      14.0   \n",
       "1        1943.0    1838.0     312.0      72.0      34.0     491.0       6.0   \n",
       "2        2306.0     573.0      53.0      19.0     283.0     172.0      48.0   \n",
       "3          14.0     908.0      13.0       0.0     871.0      26.0       1.0   \n",
       "4         499.0     530.0       6.0       7.0     404.0      53.0      22.0   \n",
       "...         ...       ...       ...       ...       ...       ...       ...   \n",
       "14995     367.0     244.0      27.0      17.0      26.0      66.0       7.0   \n",
       "14996      79.0    8587.0       3.0       5.0    8578.0       6.0       1.0   \n",
       "14997     329.0    1634.0      80.0      19.0      29.0     223.0      10.0   \n",
       "14998     133.0    7342.0      16.0       7.0     208.0     124.0      11.0   \n",
       "14999     440.0    1026.0     430.0       0.0     125.0     373.0       4.0   \n",
       "\n",
       "       feature8  feature9  feature10  \n",
       "0          40.0  0.229938   0.083333  \n",
       "1         486.0  0.091096   0.029336  \n",
       "2         141.0  0.096704   0.022984  \n",
       "3          25.0  0.285714   0.071429  \n",
       "4          32.0  0.232465   0.146293  \n",
       "...         ...       ...        ...  \n",
       "14995      61.0  0.564033   0.564033  \n",
       "14996       5.0  0.101266   0.025316  \n",
       "14997     221.0  0.291793   0.188450  \n",
       "14998     122.0  0.428571   0.300752  \n",
       "14999     371.0  0.184091   0.047727  \n",
       "\n",
       "[15000 rows x 10 columns]"
      ]
     },
     "execution_count": 6,
     "metadata": {},
     "output_type": "execute_result"
    }
   ],
   "source": [
    "sample_size = 15000\n",
    "selected_nodes = features.sample(sample_size, random_state=42)\n",
    "selected_idx = list(selected_nodes.index)\n",
    "selected_nodes = selected_nodes.reset_index(drop=True)\n",
    "selected_nodes"
   ]
  },
  {
   "cell_type": "code",
   "execution_count": 7,
   "metadata": {},
   "outputs": [
    {
     "data": {
      "text/html": [
       "<div>\n",
       "<style scoped>\n",
       "    .dataframe tbody tr th:only-of-type {\n",
       "        vertical-align: middle;\n",
       "    }\n",
       "\n",
       "    .dataframe tbody tr th {\n",
       "        vertical-align: top;\n",
       "    }\n",
       "\n",
       "    .dataframe thead th {\n",
       "        text-align: right;\n",
       "    }\n",
       "</style>\n",
       "<table border=\"1\" class=\"dataframe\">\n",
       "  <thead>\n",
       "    <tr style=\"text-align: right;\">\n",
       "      <th></th>\n",
       "      <th>ID1</th>\n",
       "      <th>ID2</th>\n",
       "    </tr>\n",
       "  </thead>\n",
       "  <tbody>\n",
       "    <tr>\n",
       "      <th>0</th>\n",
       "      <td>0</td>\n",
       "      <td>20227</td>\n",
       "    </tr>\n",
       "    <tr>\n",
       "      <th>2</th>\n",
       "      <td>0</td>\n",
       "      <td>26251</td>\n",
       "    </tr>\n",
       "    <tr>\n",
       "      <th>4</th>\n",
       "      <td>0</td>\n",
       "      <td>1043</td>\n",
       "    </tr>\n",
       "    <tr>\n",
       "      <th>6</th>\n",
       "      <td>0</td>\n",
       "      <td>30363</td>\n",
       "    </tr>\n",
       "    <tr>\n",
       "      <th>8</th>\n",
       "      <td>0</td>\n",
       "      <td>28575</td>\n",
       "    </tr>\n",
       "    <tr>\n",
       "      <th>...</th>\n",
       "      <td>...</td>\n",
       "      <td>...</td>\n",
       "    </tr>\n",
       "    <tr>\n",
       "      <th>42445012</th>\n",
       "      <td>39355</td>\n",
       "      <td>28263</td>\n",
       "    </tr>\n",
       "    <tr>\n",
       "      <th>42445013</th>\n",
       "      <td>39355</td>\n",
       "      <td>29191</td>\n",
       "    </tr>\n",
       "    <tr>\n",
       "      <th>42445023</th>\n",
       "      <td>39355</td>\n",
       "      <td>33799</td>\n",
       "    </tr>\n",
       "    <tr>\n",
       "      <th>42445024</th>\n",
       "      <td>39355</td>\n",
       "      <td>34430</td>\n",
       "    </tr>\n",
       "    <tr>\n",
       "      <th>42445025</th>\n",
       "      <td>39355</td>\n",
       "      <td>35025</td>\n",
       "    </tr>\n",
       "  </tbody>\n",
       "</table>\n",
       "<p>6032438 rows × 2 columns</p>\n",
       "</div>"
      ],
      "text/plain": [
       "            ID1    ID2\n",
       "0             0  20227\n",
       "2             0  26251\n",
       "4             0   1043\n",
       "6             0  30363\n",
       "8             0  28575\n",
       "...         ...    ...\n",
       "42445012  39355  28263\n",
       "42445013  39355  29191\n",
       "42445023  39355  33799\n",
       "42445024  39355  34430\n",
       "42445025  39355  35025\n",
       "\n",
       "[6032438 rows x 2 columns]"
      ]
     },
     "execution_count": 7,
     "metadata": {},
     "output_type": "execute_result"
    }
   ],
   "source": [
    "selected_edges = edges[edges['ID1'].isin(selected_idx) & edges['ID2'].isin(selected_idx)]\n",
    "selected_edges"
   ]
  },
  {
   "cell_type": "code",
   "execution_count": 8,
   "metadata": {},
   "outputs": [
    {
     "data": {
      "text/html": [
       "<div>\n",
       "<style scoped>\n",
       "    .dataframe tbody tr th:only-of-type {\n",
       "        vertical-align: middle;\n",
       "    }\n",
       "\n",
       "    .dataframe tbody tr th {\n",
       "        vertical-align: top;\n",
       "    }\n",
       "\n",
       "    .dataframe thead th {\n",
       "        text-align: right;\n",
       "    }\n",
       "</style>\n",
       "<table border=\"1\" class=\"dataframe\">\n",
       "  <thead>\n",
       "    <tr style=\"text-align: right;\">\n",
       "      <th></th>\n",
       "      <th>label</th>\n",
       "    </tr>\n",
       "  </thead>\n",
       "  <tbody>\n",
       "    <tr>\n",
       "      <th>10013</th>\n",
       "      <td>0</td>\n",
       "    </tr>\n",
       "    <tr>\n",
       "      <th>15505</th>\n",
       "      <td>0</td>\n",
       "    </tr>\n",
       "    <tr>\n",
       "      <th>2351</th>\n",
       "      <td>0</td>\n",
       "    </tr>\n",
       "    <tr>\n",
       "      <th>39273</th>\n",
       "      <td>0</td>\n",
       "    </tr>\n",
       "    <tr>\n",
       "      <th>1451</th>\n",
       "      <td>0</td>\n",
       "    </tr>\n",
       "    <tr>\n",
       "      <th>...</th>\n",
       "      <td>...</td>\n",
       "    </tr>\n",
       "    <tr>\n",
       "      <th>34601</th>\n",
       "      <td>0</td>\n",
       "    </tr>\n",
       "    <tr>\n",
       "      <th>33792</th>\n",
       "      <td>0</td>\n",
       "    </tr>\n",
       "    <tr>\n",
       "      <th>29354</th>\n",
       "      <td>0</td>\n",
       "    </tr>\n",
       "    <tr>\n",
       "      <th>28539</th>\n",
       "      <td>0</td>\n",
       "    </tr>\n",
       "    <tr>\n",
       "      <th>30668</th>\n",
       "      <td>0</td>\n",
       "    </tr>\n",
       "  </tbody>\n",
       "</table>\n",
       "<p>15000 rows × 1 columns</p>\n",
       "</div>"
      ],
      "text/plain": [
       "       label\n",
       "10013      0\n",
       "15505      0\n",
       "2351       0\n",
       "39273      0\n",
       "1451       0\n",
       "...      ...\n",
       "34601      0\n",
       "33792      0\n",
       "29354      0\n",
       "28539      0\n",
       "30668      0\n",
       "\n",
       "[15000 rows x 1 columns]"
      ]
     },
     "execution_count": 8,
     "metadata": {},
     "output_type": "execute_result"
    }
   ],
   "source": [
    "selected_labels = labels.loc[selected_idx]\n",
    "selected_labels"
   ]
  },
  {
   "attachments": {},
   "cell_type": "markdown",
   "metadata": {},
   "source": [
    "#### Convert to PyG"
   ]
  },
  {
   "cell_type": "code",
   "execution_count": 9,
   "metadata": {},
   "outputs": [],
   "source": [
    "import numpy as np\n",
    "import pandas as pd\n",
    "import torch\n",
    "from torch.nn import Linear, LayerNorm, ReLU, Dropout\n",
    "import torch.nn.functional as F\n",
    "import torch_geometric\n",
    "from torch_geometric.nn import ChebConv, NNConv, DeepGCNLayer, GATConv, DenseGCNConv, GCNConv, GraphConv\n",
    "from torch_geometric.data import Data, DataLoader\n",
    "from tqdm import tqdm\n",
    "from sklearn.metrics import roc_auc_score, f1_score, precision_score, recall_score, accuracy_score\n",
    "import scipy.sparse as sp\n",
    "from torch_geometric.loader import DataLoader as pyg_DataLoader\n",
    "\n",
    "\n",
    "import warnings\n",
    "warnings.filterwarnings(\"ignore\")"
   ]
  },
  {
   "cell_type": "code",
   "execution_count": 10,
   "metadata": {},
   "outputs": [
    {
     "name": "stdout",
     "output_type": "stream",
     "text": [
      "tensor([[12230, 12230, 12230,  ..., 10945, 10945, 10945],\n",
      "        [ 6579,  8455,   272,  ...,  8153,  6480,  9753]])\n",
      "shape of edge index is torch.Size([2, 6032438])\n"
     ]
    }
   ],
   "source": [
    "# Setup trans ID to node ID mapping\n",
    "nodes = list(features.index)\n",
    "map_id = {selected_idx[i]:i for i in range(sample_size)} # mapping nodes to indexes\n",
    "\n",
    "# Map transction IDs to node Ids\n",
    "selected_edges.ID1 = selected_edges.ID1.map(map_id) #get nodes idx1 from edges list and filtered data\n",
    "selected_edges.ID2 = selected_edges.ID2.map(map_id)\n",
    "selected_edges = selected_edges.astype(int)\n",
    "\n",
    "edge_index = np.array(selected_edges.values).T \n",
    "edge_index = torch.tensor(edge_index, dtype=torch.long)\n",
    "print(edge_index)\n",
    "\n",
    "print(\"shape of edge index is {}\".format(edge_index.shape))\n",
    "\n",
    "# node_features_t = torch.tensor(np.array(features.values, dtype=np.double), dtype=torch.double)\n",
    "node_features_t = torch.tensor(np.array(selected_nodes.values, dtype=np.double), dtype=torch.double)\n",
    "\n",
    "# Create pyG dataset\n",
    "data_graph = Data(x=node_features_t.float(), edge_index=edge_index,\n",
    "                               y=torch.tensor(selected_labels.values.flatten(), dtype=torch.long))"
   ]
  },
  {
   "cell_type": "code",
   "execution_count": 11,
   "metadata": {},
   "outputs": [],
   "source": [
    "from sklearn.model_selection import train_test_split\n",
    "\n",
    "# Split train, test\n",
    "train_idx, test_idx = train_test_split(range(sample_size), test_size=0.3, random_state=42)\n",
    "\n",
    "data_graph.train_idx = torch.zeros(sample_size, dtype=torch.bool)\n",
    "data_graph.train_idx[train_idx] = 1\n",
    "\n",
    "data_graph.test_idx = torch.zeros(sample_size, dtype=torch.bool)\n",
    "data_graph.test_idx[test_idx] = 1"
   ]
  },
  {
   "cell_type": "code",
   "execution_count": 51,
   "metadata": {},
   "outputs": [],
   "source": [
    "# 2-layer GCN\n",
    "class GCN(torch.nn.Module):\n",
    "    def __init__(self, num_features, num_classes, hidden_channels=128):\n",
    "        super(GCN, self).__init__()\n",
    "        self.conv1 = GCNConv(num_features, hidden_channels)\n",
    "        self.conv2 = GCNConv(hidden_channels, num_classes)\n",
    "        \n",
    "    def forward(self, x, edge_index):\n",
    "        x = self.conv1(x, edge_index)\n",
    "        x = self.conv2(x, edge_index)\n",
    "        return x"
   ]
  },
  {
   "cell_type": "code",
   "execution_count": 52,
   "metadata": {},
   "outputs": [
    {
     "data": {
      "text/plain": [
       "'cpu'"
      ]
     },
     "execution_count": 52,
     "metadata": {},
     "output_type": "execute_result"
    }
   ],
   "source": [
    "# device = torch.device('cuda' if torch.cuda.is_available() else 'cpu')\n",
    "device = 'cpu'\n",
    "device"
   ]
  },
  {
   "cell_type": "code",
   "execution_count": 53,
   "metadata": {},
   "outputs": [],
   "source": [
    "# CLASS_WEIGTHS = [0.7,0.3]\n",
    "\n",
    "def train(model, data, optimizer):\n",
    "    model.train()\n",
    "    data = data.to(device)\n",
    "    optimizer.zero_grad()\n",
    "    out = model(data.x, data.edge_index)\n",
    "    # out = out.reshape((data.x.shape[0]))\n",
    "    # # use weighted cross entropy loss, weighted cross entropy loss to provide higher importance to the illicit samples.\n",
    "    # weights = torch.tensor(CLASS_WEIGTHS, dtype=torch.float).to(device)\n",
    "    # loss = F.cross_entropy(out[data.train_idx], data.y[data.train_idx], weight=weights)\n",
    "    \n",
    "    loss = F.cross_entropy(out[data.train_idx], data.y[data.train_idx])\n",
    "    loss.backward()\n",
    "    optimizer.step()\n",
    "    return loss\n",
    "\n",
    "def test(model, data):\n",
    "    model.eval()\n",
    "    with torch.no_grad():\n",
    "        data = data.to(device)\n",
    "        out = model(data.x, data.edge_index)\n",
    "        pred_scores = out[data.test_idx]\n",
    "        pred = torch.argmax(pred_scores, dim=1)\n",
    "        y = data.y[data.test_idx]\n",
    "        # metrics for illicit transactions\n",
    "        acc = accuracy_score(y.cpu(), pred.cpu())\n",
    "        f1 = f1_score(y.cpu(), pred.cpu(), average='binary')\n",
    "        precision = precision_score(y.cpu(), pred.cpu(), average='binary')\n",
    "        recall = recall_score(y.cpu(), pred.cpu(), average='binary')\n",
    "        auc = roc_auc_score(y.cpu(), pred_scores[:,1].cpu())\n",
    "        return acc, f1, precision, recall, auc"
   ]
  },
  {
   "cell_type": "code",
   "execution_count": 54,
   "metadata": {},
   "outputs": [
    {
     "name": "stdout",
     "output_type": "stream",
     "text": [
      "num_features= 10\n"
     ]
    }
   ],
   "source": [
    "num_features = data_graph.num_node_features\n",
    "print(\"num_features=\",num_features)"
   ]
  },
  {
   "cell_type": "code",
   "execution_count": 55,
   "metadata": {},
   "outputs": [
    {
     "name": "stdout",
     "output_type": "stream",
     "text": [
      "Epoch: 000, Loss: 375.1660, Accuracy: 0.1744, F1: 0.0954, Precision:  0.0504, Recall: 0.9074, ROC: 0.8093\n",
      "Epoch: 010, Loss: 26.8001, Accuracy: 0.9522, F1: 0.0183, Precision:  0.6667, Recall: 0.0093, ROC: 0.7960\n",
      "Epoch: 020, Loss: 33.8413, Accuracy: 0.9520, F1: 0.0092, Precision:  0.5000, Recall: 0.0046, ROC: 0.7957\n",
      "Epoch: 030, Loss: 32.5310, Accuracy: 0.9522, F1: 0.0183, Precision:  0.6667, Recall: 0.0093, ROC: 0.7971\n",
      "Epoch: 040, Loss: 27.5327, Accuracy: 0.9522, F1: 0.0183, Precision:  0.6667, Recall: 0.0093, ROC: 0.7995\n",
      "Epoch: 050, Loss: 20.6009, Accuracy: 0.9549, F1: 0.1212, Precision:  0.9333, Recall: 0.0648, ROC: 0.8035\n",
      "Epoch: 060, Loss: 12.4452, Accuracy: 0.9544, F1: 0.1202, Precision:  0.8235, Recall: 0.0648, ROC: 0.8099\n",
      "Epoch: 070, Loss: 4.1538, Accuracy: 0.8924, F1: 0.0763, Precision:  0.0649, Recall: 0.0926, ROC: 0.8209\n",
      "Epoch: 080, Loss: 3.2037, Accuracy: 0.9371, F1: 0.1184, Precision:  0.1810, Recall: 0.0880, ROC: 0.8239\n",
      "Epoch: 090, Loss: 2.1298, Accuracy: 0.9162, F1: 0.3599, Precision:  0.2842, Recall: 0.4907, ROC: 0.8302\n",
      "Epoch: 100, Loss: 1.7880, Accuracy: 0.9467, F1: 0.4419, Precision:  0.4439, Recall: 0.4398, ROC: 0.8315\n",
      "Epoch: 110, Loss: 1.5124, Accuracy: 0.9222, F1: 0.4462, Precision:  0.3389, Recall: 0.6528, ROC: 0.8345\n",
      "Epoch: 120, Loss: 1.3209, Accuracy: 0.9418, F1: 0.5094, Precision:  0.4277, Recall: 0.6296, ROC: 0.8344\n",
      "Epoch: 130, Loss: 1.1960, Accuracy: 0.9464, F1: 0.5302, Precision:  0.4579, Recall: 0.6296, ROC: 0.8341\n",
      "Epoch: 140, Loss: 1.0621, Accuracy: 0.9389, F1: 0.5081, Precision:  0.4140, Recall: 0.6574, ROC: 0.8336\n",
      "Epoch: 150, Loss: 0.9252, Accuracy: 0.9384, F1: 0.5097, Precision:  0.4126, Recall: 0.6667, ROC: 0.8329\n",
      "Epoch: 160, Loss: 0.7886, Accuracy: 0.9411, F1: 0.5208, Precision:  0.4273, Recall: 0.6667, ROC: 0.8319\n",
      "Epoch: 170, Loss: 0.6560, Accuracy: 0.9433, F1: 0.5338, Precision:  0.4411, Recall: 0.6759, ROC: 0.8311\n",
      "Epoch: 180, Loss: 0.5299, Accuracy: 0.9473, F1: 0.5570, Precision:  0.4671, Recall: 0.6898, ROC: 0.8303\n",
      "Epoch: 190, Loss: 0.4187, Accuracy: 0.9518, F1: 0.5786, Precision:  0.4983, Recall: 0.6898, ROC: 0.8295\n",
      "Epoch: 200, Loss: 0.3423, Accuracy: 0.9558, F1: 0.5996, Precision:  0.5302, Recall: 0.6898, ROC: 0.8291\n"
     ]
    }
   ],
   "source": [
    "model = GCN(num_features, 2).to(device)\n",
    "num_epochs = 200\n",
    "lr = 0.001\n",
    "optimizer = torch.optim.Adam(model.parameters(), lr=lr)\n",
    "\n",
    "for epoch in range(num_epochs+1):\n",
    "    loss = train(model, data_graph, optimizer)\n",
    "    acc, f1, precision, recall, roc = test(model, data_graph)\n",
    "    if epoch % 10 == 0:\n",
    "        print(f'Epoch: {epoch:03d}, Loss: {loss:.4f}, Accuracy: {acc:.4f}, F1: {f1:.4f}, Precision: {precision: .4f}, Recall: {recall:.4f}, ROC: {roc:.4f}')"
   ]
  },
  {
   "cell_type": "code",
   "execution_count": 60,
   "metadata": {},
   "outputs": [],
   "source": [
    "selected_edges.to_csv('data/tfinance/selected_edges.csv', index=False)\n",
    "selected_nodes.to_csv('data/tfinance/selected_nodes.csv', index=False)\n",
    "selected_labels.to_csv('data/tfinance/selected_labels.csv', index=False)"
   ]
  },
  {
   "cell_type": "code",
   "execution_count": 64,
   "metadata": {},
   "outputs": [],
   "source": [
    "# save the train and test indices as csv, integer\n",
    "np.savetxt(\"data/tfinance/index/train_idx.csv\", train_idx, delimiter=\",\", fmt='%d')\n",
    "np.savetxt(\"data/tfinance/index/test_idx.csv\", test_idx, delimiter=\",\", fmt='%d')"
   ]
  },
  {
   "cell_type": "code",
   "execution_count": 12,
   "metadata": {},
   "outputs": [],
   "source": [
    "train_idx = pd.read_csv('data/tfinance/index/train_idx.csv', names=['id'])\n",
    "test_idx = pd.read_csv('data/tfinance/index/test_idx.csv', names=['id'])\n",
    "\n",
    "X_train = selected_nodes.loc[train_idx['id'].tolist()]\n",
    "y_train = selected_labels.reset_index().loc[train_idx['id'].tolist()]\n",
    "\n",
    "X_test = selected_nodes.loc[test_idx['id'].tolist()]\n",
    "y_test = selected_labels.reset_index().loc[test_idx['id'].tolist()]"
   ]
  },
  {
   "cell_type": "code",
   "execution_count": 13,
   "metadata": {},
   "outputs": [],
   "source": [
    "from sklearn.ensemble import RandomForestClassifier\n",
    "\n",
    "rf = RandomForestClassifier(n_estimators=100, max_features=50, random_state=42)\n",
    "\n",
    "# Train the classifier\n",
    "rf.fit(X_train, y_train)"
   ]
  },
  {
   "cell_type": "code",
   "execution_count": null,
   "metadata": {},
   "outputs": [],
   "source": [
    "# Make predictions on the test set\n",
    "y_pred = rf.predict(X_test)\n",
    "\n",
    "# Calculate accuracy\n",
    "accuracy = accuracy_score(y_test, y_pred)\n",
    "f1 = f1_score(y_test, y_pred, average='binary')\n",
    "precision = precision_score(y_test, y_pred, average='binary')\n",
    "recall = recall_score(y_test, y_pred, average='binary')\n",
    "rocauc = roc_auc_score(y_test, rf.predict_proba(X_test)[:, 1])\n",
    "\n",
    "print(\"Accuracy: \", accuracy)\n",
    "print(\"F1:       \", f1)\n",
    "print(\"Precision:\", precision)\n",
    "print(\"Recall:   \", recall)\n",
    "print(\"ROC AUC:  \", rocauc)"
   ]
  },
  {
   "cell_type": "code",
   "execution_count": null,
   "metadata": {},
   "outputs": [],
   "source": []
  },
  {
   "cell_type": "code",
   "execution_count": null,
   "metadata": {},
   "outputs": [],
   "source": []
  }
 ],
 "metadata": {
  "kernelspec": {
   "display_name": "Python 3",
   "language": "python",
   "name": "python3"
  },
  "language_info": {
   "codemirror_mode": {
    "name": "ipython",
    "version": 3
   },
   "file_extension": ".py",
   "mimetype": "text/x-python",
   "name": "python",
   "nbconvert_exporter": "python",
   "pygments_lexer": "ipython3",
   "version": "3.10.11"
  }
 },
 "nbformat": 4,
 "nbformat_minor": 2
}
