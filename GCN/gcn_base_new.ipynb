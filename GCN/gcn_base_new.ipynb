{
 "cells": [
  {
   "cell_type": "code",
   "execution_count": 1,
   "metadata": {},
   "outputs": [],
   "source": [
    "import torch_geometric\n",
    "\n",
    "import numpy as np\n",
    "import pandas as pd\n",
    "import torch\n",
    "from torch.nn import Linear, LayerNorm, ReLU, Dropout\n",
    "import torch.nn.functional as F\n",
    "from torch_geometric.nn import ChebConv, NNConv, DeepGCNLayer, GATConv, DenseGCNConv, GCNConv, GraphConv\n",
    "from torch_geometric.data import Data, DataLoader\n",
    "from tqdm import tqdm\n",
    "from sklearn.metrics import roc_auc_score, f1_score, precision_score, recall_score, accuracy_score\n",
    "import scipy.sparse as sp\n",
    "\n",
    "import warnings\n",
    "warnings.filterwarnings(\"ignore\")\n",
    "\n",
    "# ref: https://medium.com/stanford-cs224w/fraud-detection-with-gat-edac49bda1a0"
   ]
  },
  {
   "attachments": {},
   "cell_type": "markdown",
   "metadata": {},
   "source": [
    "#### Import dataset"
   ]
  },
  {
   "cell_type": "code",
   "execution_count": 2,
   "metadata": {},
   "outputs": [
    {
     "name": "stdout",
     "output_type": "stream",
     "text": [
      "Number of duplicate txId:  0\n"
     ]
    }
   ],
   "source": [
    "# import data \n",
    "df_features = pd.read_csv('../data/elliptic_txs_features.csv', header=None)\n",
    "df_edges = pd.read_csv(\"../data/elliptic_txs_edgelist.csv\")\n",
    "df_classes =  pd.read_csv(\"../data/elliptic_txs_classes.csv\")\n",
    "\n",
    "df_classes['class'] = df_classes['class'].map({'unknown': 2, '1':1, '2':0})\n",
    "\n",
    "# merging dataframes\n",
    "df_merge = df_features.merge(df_classes, how='left', right_on=\"txId\", left_on=0)\n",
    "df_merge.drop(0, axis=1, inplace=True)\n",
    "\n",
    "# check if there are duplicate txId\n",
    "print(\"Number of duplicate txId: \", df_merge.duplicated(subset=['txId']).sum())\n"
   ]
  },
  {
   "cell_type": "code",
   "execution_count": 3,
   "metadata": {},
   "outputs": [
    {
     "data": {
      "text/html": [
       "<div>\n",
       "<style scoped>\n",
       "    .dataframe tbody tr th:only-of-type {\n",
       "        vertical-align: middle;\n",
       "    }\n",
       "\n",
       "    .dataframe tbody tr th {\n",
       "        vertical-align: top;\n",
       "    }\n",
       "\n",
       "    .dataframe thead th {\n",
       "        text-align: right;\n",
       "    }\n",
       "</style>\n",
       "<table border=\"1\" class=\"dataframe\">\n",
       "  <thead>\n",
       "    <tr style=\"text-align: right;\">\n",
       "      <th></th>\n",
       "      <th>time_step</th>\n",
       "      <th>2</th>\n",
       "      <th>3</th>\n",
       "      <th>4</th>\n",
       "      <th>5</th>\n",
       "      <th>6</th>\n",
       "      <th>7</th>\n",
       "      <th>8</th>\n",
       "      <th>9</th>\n",
       "      <th>10</th>\n",
       "      <th>...</th>\n",
       "      <th>159</th>\n",
       "      <th>160</th>\n",
       "      <th>161</th>\n",
       "      <th>162</th>\n",
       "      <th>163</th>\n",
       "      <th>164</th>\n",
       "      <th>165</th>\n",
       "      <th>166</th>\n",
       "      <th>txId</th>\n",
       "      <th>class</th>\n",
       "    </tr>\n",
       "  </thead>\n",
       "  <tbody>\n",
       "    <tr>\n",
       "      <th>0</th>\n",
       "      <td>1</td>\n",
       "      <td>-0.171469</td>\n",
       "      <td>-0.184668</td>\n",
       "      <td>-1.201369</td>\n",
       "      <td>-0.121970</td>\n",
       "      <td>-0.043875</td>\n",
       "      <td>-0.113002</td>\n",
       "      <td>-0.061584</td>\n",
       "      <td>-0.162097</td>\n",
       "      <td>-0.167933</td>\n",
       "      <td>...</td>\n",
       "      <td>1.461330</td>\n",
       "      <td>1.461369</td>\n",
       "      <td>0.018279</td>\n",
       "      <td>-0.087490</td>\n",
       "      <td>-0.131155</td>\n",
       "      <td>-0.097524</td>\n",
       "      <td>-0.120613</td>\n",
       "      <td>-0.119792</td>\n",
       "      <td>230425980</td>\n",
       "      <td>2</td>\n",
       "    </tr>\n",
       "    <tr>\n",
       "      <th>1</th>\n",
       "      <td>1</td>\n",
       "      <td>-0.171484</td>\n",
       "      <td>-0.184668</td>\n",
       "      <td>-1.201369</td>\n",
       "      <td>-0.121970</td>\n",
       "      <td>-0.043875</td>\n",
       "      <td>-0.113002</td>\n",
       "      <td>-0.061584</td>\n",
       "      <td>-0.162112</td>\n",
       "      <td>-0.167948</td>\n",
       "      <td>...</td>\n",
       "      <td>-0.979074</td>\n",
       "      <td>-0.978556</td>\n",
       "      <td>0.018279</td>\n",
       "      <td>-0.087490</td>\n",
       "      <td>-0.131155</td>\n",
       "      <td>-0.097524</td>\n",
       "      <td>-0.120613</td>\n",
       "      <td>-0.119792</td>\n",
       "      <td>5530458</td>\n",
       "      <td>2</td>\n",
       "    </tr>\n",
       "    <tr>\n",
       "      <th>2</th>\n",
       "      <td>1</td>\n",
       "      <td>-0.172107</td>\n",
       "      <td>-0.184668</td>\n",
       "      <td>-1.201369</td>\n",
       "      <td>-0.121970</td>\n",
       "      <td>-0.043875</td>\n",
       "      <td>-0.113002</td>\n",
       "      <td>-0.061584</td>\n",
       "      <td>-0.162749</td>\n",
       "      <td>-0.168576</td>\n",
       "      <td>...</td>\n",
       "      <td>-0.979074</td>\n",
       "      <td>-0.978556</td>\n",
       "      <td>-0.098889</td>\n",
       "      <td>-0.106715</td>\n",
       "      <td>-0.131155</td>\n",
       "      <td>-0.183671</td>\n",
       "      <td>-0.120613</td>\n",
       "      <td>-0.119792</td>\n",
       "      <td>232022460</td>\n",
       "      <td>2</td>\n",
       "    </tr>\n",
       "    <tr>\n",
       "      <th>3</th>\n",
       "      <td>1</td>\n",
       "      <td>0.163054</td>\n",
       "      <td>1.963790</td>\n",
       "      <td>-0.646376</td>\n",
       "      <td>12.409294</td>\n",
       "      <td>-0.063725</td>\n",
       "      <td>9.782742</td>\n",
       "      <td>12.414558</td>\n",
       "      <td>-0.163645</td>\n",
       "      <td>-0.115831</td>\n",
       "      <td>...</td>\n",
       "      <td>0.241128</td>\n",
       "      <td>0.241406</td>\n",
       "      <td>1.072793</td>\n",
       "      <td>0.085530</td>\n",
       "      <td>-0.131155</td>\n",
       "      <td>0.677799</td>\n",
       "      <td>-0.120613</td>\n",
       "      <td>-0.119792</td>\n",
       "      <td>232438397</td>\n",
       "      <td>0</td>\n",
       "    </tr>\n",
       "    <tr>\n",
       "      <th>4</th>\n",
       "      <td>1</td>\n",
       "      <td>1.011523</td>\n",
       "      <td>-0.081127</td>\n",
       "      <td>-1.201369</td>\n",
       "      <td>1.153668</td>\n",
       "      <td>0.333276</td>\n",
       "      <td>1.312656</td>\n",
       "      <td>-0.061584</td>\n",
       "      <td>-0.163523</td>\n",
       "      <td>0.041399</td>\n",
       "      <td>...</td>\n",
       "      <td>0.517257</td>\n",
       "      <td>0.579382</td>\n",
       "      <td>0.018279</td>\n",
       "      <td>0.277775</td>\n",
       "      <td>0.326394</td>\n",
       "      <td>1.293750</td>\n",
       "      <td>0.178136</td>\n",
       "      <td>0.179117</td>\n",
       "      <td>230460314</td>\n",
       "      <td>2</td>\n",
       "    </tr>\n",
       "  </tbody>\n",
       "</table>\n",
       "<p>5 rows × 168 columns</p>\n",
       "</div>"
      ],
      "text/plain": [
       "   time_step         2         3         4          5         6         7  \\\n",
       "0          1 -0.171469 -0.184668 -1.201369  -0.121970 -0.043875 -0.113002   \n",
       "1          1 -0.171484 -0.184668 -1.201369  -0.121970 -0.043875 -0.113002   \n",
       "2          1 -0.172107 -0.184668 -1.201369  -0.121970 -0.043875 -0.113002   \n",
       "3          1  0.163054  1.963790 -0.646376  12.409294 -0.063725  9.782742   \n",
       "4          1  1.011523 -0.081127 -1.201369   1.153668  0.333276  1.312656   \n",
       "\n",
       "           8         9        10  ...       159       160       161       162  \\\n",
       "0  -0.061584 -0.162097 -0.167933  ...  1.461330  1.461369  0.018279 -0.087490   \n",
       "1  -0.061584 -0.162112 -0.167948  ... -0.979074 -0.978556  0.018279 -0.087490   \n",
       "2  -0.061584 -0.162749 -0.168576  ... -0.979074 -0.978556 -0.098889 -0.106715   \n",
       "3  12.414558 -0.163645 -0.115831  ...  0.241128  0.241406  1.072793  0.085530   \n",
       "4  -0.061584 -0.163523  0.041399  ...  0.517257  0.579382  0.018279  0.277775   \n",
       "\n",
       "        163       164       165       166       txId  class  \n",
       "0 -0.131155 -0.097524 -0.120613 -0.119792  230425980      2  \n",
       "1 -0.131155 -0.097524 -0.120613 -0.119792    5530458      2  \n",
       "2 -0.131155 -0.183671 -0.120613 -0.119792  232022460      2  \n",
       "3 -0.131155  0.677799 -0.120613 -0.119792  232438397      0  \n",
       "4  0.326394  1.293750  0.178136  0.179117  230460314      2  \n",
       "\n",
       "[5 rows x 168 columns]"
      ]
     },
     "metadata": {},
     "output_type": "display_data"
    },
    {
     "data": {
      "text/plain": [
       "(234355, 2)"
      ]
     },
     "metadata": {},
     "output_type": "display_data"
    }
   ],
   "source": [
    "# rename column 0 to time_step\n",
    "df_merge.rename(columns={1: 'time_step'}, inplace=True)\n",
    "display(df_merge.head())\n",
    "display(df_edges.shape)"
   ]
  },
  {
   "attachments": {},
   "cell_type": "markdown",
   "metadata": {},
   "source": [
    "#### Split dataset masks"
   ]
  },
  {
   "cell_type": "code",
   "execution_count": 4,
   "metadata": {},
   "outputs": [
    {
     "name": "stdout",
     "output_type": "stream",
     "text": [
      "shape of edge index is torch.Size([2, 234355])\n"
     ]
    }
   ],
   "source": [
    "edges = df_edges.copy()\n",
    "\n",
    "# Setup trans ID to node ID mapping\n",
    "nodes = df_merge['txId'].values\n",
    "map_id = {j:i for i,j in enumerate(nodes)} # mapping nodes to indexes\n",
    "\n",
    "# Map transction IDs to node Ids\n",
    "edges.txId1 = edges.txId1.map(map_id) #get nodes idx1 from edges list and filtered data\n",
    "edges.txId2 = edges.txId2.map(map_id)\n",
    "edges = edges.astype(int)\n",
    "\n",
    "# Reformat and convert to tensor\n",
    "edge_index = np.array(edges.values).T \n",
    "edge_index = torch.tensor(edge_index, dtype=torch.long).contiguous()\n",
    "\n",
    "print(\"shape of edge index is {}\".format(edge_index.shape))"
   ]
  },
  {
   "cell_type": "code",
   "execution_count": 5,
   "metadata": {},
   "outputs": [
    {
     "name": "stdout",
     "output_type": "stream",
     "text": [
      "unique= [2 0 1]\n"
     ]
    },
    {
     "data": {
      "text/html": [
       "<div>\n",
       "<style scoped>\n",
       "    .dataframe tbody tr th:only-of-type {\n",
       "        vertical-align: middle;\n",
       "    }\n",
       "\n",
       "    .dataframe tbody tr th {\n",
       "        vertical-align: top;\n",
       "    }\n",
       "\n",
       "    .dataframe thead th {\n",
       "        text-align: right;\n",
       "    }\n",
       "</style>\n",
       "<table border=\"1\" class=\"dataframe\">\n",
       "  <thead>\n",
       "    <tr style=\"text-align: right;\">\n",
       "      <th></th>\n",
       "      <th>time_step</th>\n",
       "      <th>2</th>\n",
       "      <th>3</th>\n",
       "      <th>4</th>\n",
       "      <th>5</th>\n",
       "      <th>6</th>\n",
       "      <th>7</th>\n",
       "      <th>8</th>\n",
       "      <th>9</th>\n",
       "      <th>10</th>\n",
       "      <th>...</th>\n",
       "      <th>158</th>\n",
       "      <th>159</th>\n",
       "      <th>160</th>\n",
       "      <th>161</th>\n",
       "      <th>162</th>\n",
       "      <th>163</th>\n",
       "      <th>164</th>\n",
       "      <th>165</th>\n",
       "      <th>166</th>\n",
       "      <th>class</th>\n",
       "    </tr>\n",
       "  </thead>\n",
       "  <tbody>\n",
       "    <tr>\n",
       "      <th>0</th>\n",
       "      <td>1</td>\n",
       "      <td>-0.171469</td>\n",
       "      <td>-0.184668</td>\n",
       "      <td>-1.201369</td>\n",
       "      <td>-0.121970</td>\n",
       "      <td>-0.043875</td>\n",
       "      <td>-0.113002</td>\n",
       "      <td>-0.061584</td>\n",
       "      <td>-0.162097</td>\n",
       "      <td>-0.167933</td>\n",
       "      <td>...</td>\n",
       "      <td>-0.600999</td>\n",
       "      <td>1.461330</td>\n",
       "      <td>1.461369</td>\n",
       "      <td>0.018279</td>\n",
       "      <td>-0.087490</td>\n",
       "      <td>-0.131155</td>\n",
       "      <td>-0.097524</td>\n",
       "      <td>-0.120613</td>\n",
       "      <td>-0.119792</td>\n",
       "      <td>2</td>\n",
       "    </tr>\n",
       "    <tr>\n",
       "      <th>1</th>\n",
       "      <td>1</td>\n",
       "      <td>-0.171484</td>\n",
       "      <td>-0.184668</td>\n",
       "      <td>-1.201369</td>\n",
       "      <td>-0.121970</td>\n",
       "      <td>-0.043875</td>\n",
       "      <td>-0.113002</td>\n",
       "      <td>-0.061584</td>\n",
       "      <td>-0.162112</td>\n",
       "      <td>-0.167948</td>\n",
       "      <td>...</td>\n",
       "      <td>0.673103</td>\n",
       "      <td>-0.979074</td>\n",
       "      <td>-0.978556</td>\n",
       "      <td>0.018279</td>\n",
       "      <td>-0.087490</td>\n",
       "      <td>-0.131155</td>\n",
       "      <td>-0.097524</td>\n",
       "      <td>-0.120613</td>\n",
       "      <td>-0.119792</td>\n",
       "      <td>2</td>\n",
       "    </tr>\n",
       "    <tr>\n",
       "      <th>2</th>\n",
       "      <td>1</td>\n",
       "      <td>-0.172107</td>\n",
       "      <td>-0.184668</td>\n",
       "      <td>-1.201369</td>\n",
       "      <td>-0.121970</td>\n",
       "      <td>-0.043875</td>\n",
       "      <td>-0.113002</td>\n",
       "      <td>-0.061584</td>\n",
       "      <td>-0.162749</td>\n",
       "      <td>-0.168576</td>\n",
       "      <td>...</td>\n",
       "      <td>0.439728</td>\n",
       "      <td>-0.979074</td>\n",
       "      <td>-0.978556</td>\n",
       "      <td>-0.098889</td>\n",
       "      <td>-0.106715</td>\n",
       "      <td>-0.131155</td>\n",
       "      <td>-0.183671</td>\n",
       "      <td>-0.120613</td>\n",
       "      <td>-0.119792</td>\n",
       "      <td>2</td>\n",
       "    </tr>\n",
       "    <tr>\n",
       "      <th>3</th>\n",
       "      <td>1</td>\n",
       "      <td>0.163054</td>\n",
       "      <td>1.963790</td>\n",
       "      <td>-0.646376</td>\n",
       "      <td>12.409294</td>\n",
       "      <td>-0.063725</td>\n",
       "      <td>9.782742</td>\n",
       "      <td>12.414558</td>\n",
       "      <td>-0.163645</td>\n",
       "      <td>-0.115831</td>\n",
       "      <td>...</td>\n",
       "      <td>-0.613614</td>\n",
       "      <td>0.241128</td>\n",
       "      <td>0.241406</td>\n",
       "      <td>1.072793</td>\n",
       "      <td>0.085530</td>\n",
       "      <td>-0.131155</td>\n",
       "      <td>0.677799</td>\n",
       "      <td>-0.120613</td>\n",
       "      <td>-0.119792</td>\n",
       "      <td>0</td>\n",
       "    </tr>\n",
       "    <tr>\n",
       "      <th>4</th>\n",
       "      <td>1</td>\n",
       "      <td>1.011523</td>\n",
       "      <td>-0.081127</td>\n",
       "      <td>-1.201369</td>\n",
       "      <td>1.153668</td>\n",
       "      <td>0.333276</td>\n",
       "      <td>1.312656</td>\n",
       "      <td>-0.061584</td>\n",
       "      <td>-0.163523</td>\n",
       "      <td>0.041399</td>\n",
       "      <td>...</td>\n",
       "      <td>-0.400422</td>\n",
       "      <td>0.517257</td>\n",
       "      <td>0.579382</td>\n",
       "      <td>0.018279</td>\n",
       "      <td>0.277775</td>\n",
       "      <td>0.326394</td>\n",
       "      <td>1.293750</td>\n",
       "      <td>0.178136</td>\n",
       "      <td>0.179117</td>\n",
       "      <td>2</td>\n",
       "    </tr>\n",
       "  </tbody>\n",
       "</table>\n",
       "<p>5 rows × 167 columns</p>\n",
       "</div>"
      ],
      "text/plain": [
       "   time_step         2         3         4          5         6         7  \\\n",
       "0          1 -0.171469 -0.184668 -1.201369  -0.121970 -0.043875 -0.113002   \n",
       "1          1 -0.171484 -0.184668 -1.201369  -0.121970 -0.043875 -0.113002   \n",
       "2          1 -0.172107 -0.184668 -1.201369  -0.121970 -0.043875 -0.113002   \n",
       "3          1  0.163054  1.963790 -0.646376  12.409294 -0.063725  9.782742   \n",
       "4          1  1.011523 -0.081127 -1.201369   1.153668  0.333276  1.312656   \n",
       "\n",
       "           8         9        10  ...       158       159       160       161  \\\n",
       "0  -0.061584 -0.162097 -0.167933  ... -0.600999  1.461330  1.461369  0.018279   \n",
       "1  -0.061584 -0.162112 -0.167948  ...  0.673103 -0.979074 -0.978556  0.018279   \n",
       "2  -0.061584 -0.162749 -0.168576  ...  0.439728 -0.979074 -0.978556 -0.098889   \n",
       "3  12.414558 -0.163645 -0.115831  ... -0.613614  0.241128  0.241406  1.072793   \n",
       "4  -0.061584 -0.163523  0.041399  ... -0.400422  0.517257  0.579382  0.018279   \n",
       "\n",
       "        162       163       164       165       166  class  \n",
       "0 -0.087490 -0.131155 -0.097524 -0.120613 -0.119792      2  \n",
       "1 -0.087490 -0.131155 -0.097524 -0.120613 -0.119792      2  \n",
       "2 -0.106715 -0.131155 -0.183671 -0.120613 -0.119792      2  \n",
       "3  0.085530 -0.131155  0.677799 -0.120613 -0.119792      0  \n",
       "4  0.277775  0.326394  1.293750  0.178136  0.179117      2  \n",
       "\n",
       "[5 rows x 167 columns]"
      ]
     },
     "metadata": {},
     "output_type": "display_data"
    }
   ],
   "source": [
    "node_features = df_merge.drop(['txId'], axis=1).copy()\n",
    "print(\"unique=\",node_features[\"class\"].unique())\n",
    "\n",
    "# Retain known vs unknown IDs\n",
    "all_classified_idx = node_features['class'].loc[node_features['class']!=2].index # filter on known labels\n",
    "all_unclassified_idx = node_features['class'].loc[node_features['class']==2].index\n",
    "all_classified_illicit_idx = node_features['class'].loc[node_features['class']==1].index # filter on illicit labels\n",
    "all_classified_licit_idx = node_features['class'].loc[node_features['class']==0].index # filter on licit labels\n",
    "\n",
    "# node_features = node_features.drop(columns=[0, 1, 'class'])\n",
    "display(node_features.head())"
   ]
  },
  {
   "cell_type": "code",
   "execution_count": 6,
   "metadata": {},
   "outputs": [
    {
     "name": "stdout",
     "output_type": "stream",
     "text": [
      "train_classified_idx.shape= (29894,)\n",
      "test_classified_idx.shape= (16670,)\n"
     ]
    }
   ],
   "source": [
    "train_classified_idx = node_features.loc[(node_features['time_step'] <= 34) & (node_features['class'] != 2)].index\n",
    "test_classified_idx = node_features.loc[(node_features['time_step'] > 34) & (node_features['class'] != 2)].index\n",
    "print(\"train_classified_idx.shape=\",train_classified_idx.shape)\n",
    "print(\"test_classified_idx.shape=\",test_classified_idx.shape)"
   ]
  },
  {
   "cell_type": "code",
   "execution_count": 7,
   "metadata": {},
   "outputs": [
    {
     "name": "stdout",
     "output_type": "stream",
     "text": [
      "train_classified_illicit_idx.shape= (3462,)\n",
      "train_classified_licit_idx.shape= (26432,)\n",
      "train_classified_illicit_idx.shape[0]/train_classified_idx.shape[0]= 0.11580919248009634\n"
     ]
    }
   ],
   "source": [
    "# show ratio of illicit vs licit transactions in train and test set\n",
    "train_classified_illicit_idx = node_features.loc[(node_features['time_step'] <= 34) & (node_features['class'] == 1)].index\n",
    "train_classified_licit_idx = node_features.loc[(node_features['time_step'] <= 34) & (node_features['class'] == 0)].index\n",
    "print(\"train_classified_illicit_idx.shape=\",train_classified_illicit_idx.shape)\n",
    "print(\"train_classified_licit_idx.shape=\",train_classified_licit_idx.shape)\n",
    "print(\"train_classified_illicit_idx.shape[0]/train_classified_idx.shape[0]=\",train_classified_illicit_idx.shape[0]/train_classified_idx.shape[0])"
   ]
  },
  {
   "cell_type": "code",
   "execution_count": 8,
   "metadata": {},
   "outputs": [],
   "source": [
    "# save the train and test indices as csv, integer\n",
    "np.savetxt(\"../data/index/train_classified_idx.csv\", train_classified_idx, delimiter=\",\", fmt='%d')\n",
    "np.savetxt(\"../data/index/test_classified_idx.csv\", test_classified_idx, delimiter=\",\", fmt='%d')"
   ]
  },
  {
   "cell_type": "code",
   "execution_count": 9,
   "metadata": {},
   "outputs": [],
   "source": [
    "# node_features.drop(columns=['time_step'], inplace=True)\n",
    "node_features.drop(columns=['class'], inplace=True)\n",
    "\n",
    "# Convert to tensor\n",
    "node_features_t = torch.tensor(np.array(node_features.values, dtype=np.double), dtype=torch.double)"
   ]
  },
  {
   "cell_type": "code",
   "execution_count": 10,
   "metadata": {},
   "outputs": [
    {
     "data": {
      "text/plain": [
       "Data(x=[203769, 166], edge_index=[2, 234355], edge_attr=[234355], y=[203769], train_idx=Int64Index([     3,      9,     10,     11,     16,     17,     25,     27,\n",
       "                29,     30,\n",
       "            ...\n",
       "            136232, 136233, 136234, 136236, 136239, 136241, 136243, 136249,\n",
       "            136250, 136258],\n",
       "           dtype='int64', length=29894), test_idx=Int64Index([136276, 136277, 136278, 136279, 136280, 136282, 136285, 136287,\n",
       "            136288, 136291,\n",
       "            ...\n",
       "            203727, 203730, 203736, 203740, 203750, 203752, 203754, 203759,\n",
       "            203763, 203766],\n",
       "           dtype='int64', length=16670))"
      ]
     },
     "execution_count": 10,
     "metadata": {},
     "output_type": "execute_result"
    }
   ],
   "source": [
    "# Define labels\n",
    "labels = df_merge['class'].values\n",
    "\n",
    "#create weights tensor with same shape of edge_index\n",
    "weights = torch.tensor([1]* edge_index.shape[1] , dtype=torch.double) \n",
    "\n",
    "# Do train test split on classified_ids\n",
    "train_idx = train_classified_idx\n",
    "test_idx = test_classified_idx\n",
    "\n",
    "# Create pyG dataset\n",
    "data_graph = Data(x=node_features_t.float(), edge_index=edge_index, edge_attr=weights, \n",
    "                               y=torch.tensor(labels, dtype=torch.long))\n",
    "\n",
    "# Add in the train and valid idx\n",
    "data_graph.train_idx = train_idx\n",
    "data_graph.test_idx = test_idx\n",
    "data_graph"
   ]
  },
  {
   "attachments": {},
   "cell_type": "markdown",
   "metadata": {},
   "source": [
    "#### GCN Model and Training"
   ]
  },
  {
   "cell_type": "code",
   "execution_count": 11,
   "metadata": {},
   "outputs": [],
   "source": [
    "# 2-layer GCN\n",
    "class GCN(torch.nn.Module):\n",
    "    def __init__(self, num_features, num_classes, hidden_channels=128):\n",
    "        super(GCN, self).__init__()\n",
    "        self.conv1 = GCNConv(num_features, hidden_channels)\n",
    "        self.conv2 = GCNConv(hidden_channels, num_classes)\n",
    "        \n",
    "    def forward(self, x, edge_index):\n",
    "        x = self.conv1(x, edge_index)\n",
    "        x = self.conv2(x, edge_index)\n",
    "        return x"
   ]
  },
  {
   "cell_type": "code",
   "execution_count": 12,
   "metadata": {},
   "outputs": [
    {
     "data": {
      "text/plain": [
       "device(type='cuda')"
      ]
     },
     "execution_count": 12,
     "metadata": {},
     "output_type": "execute_result"
    }
   ],
   "source": [
    "device = torch.device('cuda' if torch.cuda.is_available() else 'cpu')\n",
    "device"
   ]
  },
  {
   "cell_type": "code",
   "execution_count": 25,
   "metadata": {},
   "outputs": [],
   "source": [
    "CLASS_WEIGTHS = [0.7,0.3]\n",
    "\n",
    "def train(model, data, optimizer):\n",
    "    model.train()\n",
    "    data = data.to(device)\n",
    "    optimizer.zero_grad()\n",
    "    out = model(data.x, data.edge_index)\n",
    "    # out = out.reshape((data.x.shape[0]))\n",
    "    # use weighted cross entropy loss, weighted cross entropy loss to provide higher importance to the illicit samples.\n",
    "    weights = torch.tensor(CLASS_WEIGTHS, dtype=torch.float).to(device)\n",
    "    loss = F.cross_entropy(out[data.train_idx], data.y[data.train_idx], weight=weights)\n",
    "    loss.backward()\n",
    "    optimizer.step()\n",
    "    return loss\n",
    "\n",
    "def test(model, data):\n",
    "    model.eval()\n",
    "    with torch.no_grad():\n",
    "        data = data.to(device)\n",
    "        out = model(data.x, data.edge_index)\n",
    "        pred_scores = out[data.test_idx]\n",
    "        pred = torch.argmax(pred_scores, dim=1)\n",
    "        y = data.y[data.test_idx]\n",
    "        # metrics for illicit transactions\n",
    "        acc = accuracy_score(y.cpu(), pred.cpu())\n",
    "        f1 = f1_score(y.cpu(), pred.cpu(), average='binary')\n",
    "        precision = precision_score(y.cpu(), pred.cpu(), average='binary')\n",
    "        recall = recall_score(y.cpu(), pred.cpu(), average='binary')\n",
    "        auc = roc_auc_score(y.cpu(), pred_scores[:,1].cpu())\n",
    "        return acc, f1, precision, recall, auc\n",
    "    "
   ]
  },
  {
   "cell_type": "code",
   "execution_count": 14,
   "metadata": {},
   "outputs": [
    {
     "name": "stdout",
     "output_type": "stream",
     "text": [
      "num_features= 166\n"
     ]
    }
   ],
   "source": [
    "num_features = data_graph.num_node_features\n",
    "print(\"num_features=\",num_features)"
   ]
  },
  {
   "cell_type": "code",
   "execution_count": 26,
   "metadata": {},
   "outputs": [
    {
     "name": "stdout",
     "output_type": "stream",
     "text": [
      "Epoch: 000, Loss: 5.4886, Accuracy: 0.0665, F1: 0.1222, Precision: 0.0651, Recall: 1.0000, ROC: 0.5174\n",
      "Epoch: 010, Loss: 0.2501, Accuracy: 0.8305, F1: 0.1723, Precision: 0.1262, Recall: 0.2715, ROC: 0.7290\n",
      "Epoch: 020, Loss: 0.2742, Accuracy: 0.9197, F1: 0.0059, Precision: 0.0152, Recall: 0.0037, ROC: 0.7382\n",
      "Epoch: 030, Loss: 0.2889, Accuracy: 0.9223, F1: 0.0046, Precision: 0.0137, Recall: 0.0028, ROC: 0.7556\n",
      "Epoch: 040, Loss: 0.2391, Accuracy: 0.9195, F1: 0.0176, Precision: 0.0424, Recall: 0.0111, ROC: 0.7746\n",
      "Epoch: 050, Loss: 0.1902, Accuracy: 0.9022, F1: 0.1320, Precision: 0.1558, Recall: 0.1145, ROC: 0.7860\n",
      "Epoch: 060, Loss: 0.1726, Accuracy: 0.8520, F1: 0.2379, Precision: 0.1787, Recall: 0.3555, ROC: 0.7845\n",
      "Epoch: 070, Loss: 0.1611, Accuracy: 0.8445, F1: 0.2456, Precision: 0.1793, Recall: 0.3897, ROC: 0.7768\n",
      "Epoch: 080, Loss: 0.1526, Accuracy: 0.8602, F1: 0.2304, Precision: 0.1793, Recall: 0.3223, ROC: 0.7707\n",
      "Epoch: 090, Loss: 0.1478, Accuracy: 0.8546, F1: 0.2319, Precision: 0.1766, Recall: 0.3380, ROC: 0.7651\n",
      "Epoch: 100, Loss: 0.1445, Accuracy: 0.8411, F1: 0.2464, Precision: 0.1780, Recall: 0.3998, ROC: 0.7588\n",
      "Epoch: 110, Loss: 0.1425, Accuracy: 0.8383, F1: 0.2428, Precision: 0.1745, Recall: 0.3989, ROC: 0.7544\n",
      "Epoch: 120, Loss: 0.1412, Accuracy: 0.8404, F1: 0.2369, Precision: 0.1718, Recall: 0.3813, ROC: 0.7530\n",
      "Epoch: 130, Loss: 0.1401, Accuracy: 0.8401, F1: 0.2405, Precision: 0.1739, Recall: 0.3897, ROC: 0.7529\n",
      "Epoch: 140, Loss: 0.1391, Accuracy: 0.8384, F1: 0.2411, Precision: 0.1735, Recall: 0.3952, ROC: 0.7529\n",
      "Epoch: 150, Loss: 0.1382, Accuracy: 0.8392, F1: 0.2412, Precision: 0.1739, Recall: 0.3934, ROC: 0.7526\n",
      "Epoch: 160, Loss: 0.1374, Accuracy: 0.8409, F1: 0.2449, Precision: 0.1770, Recall: 0.3970, ROC: 0.7523\n",
      "Epoch: 170, Loss: 0.1366, Accuracy: 0.8417, F1: 0.2471, Precision: 0.1788, Recall: 0.3998, ROC: 0.7523\n",
      "Epoch: 180, Loss: 0.1359, Accuracy: 0.8442, F1: 0.2505, Precision: 0.1822, Recall: 0.4007, ROC: 0.7523\n",
      "Epoch: 190, Loss: 0.1352, Accuracy: 0.8466, F1: 0.2551, Precision: 0.1863, Recall: 0.4044, ROC: 0.7524\n",
      "Epoch: 200, Loss: 0.1346, Accuracy: 0.8491, F1: 0.2583, Precision: 0.1897, Recall: 0.4044, ROC: 0.7524\n",
      "Epoch: 210, Loss: 0.1339, Accuracy: 0.8522, F1: 0.2627, Precision: 0.1943, Recall: 0.4054, ROC: 0.7525\n",
      "Epoch: 220, Loss: 0.1334, Accuracy: 0.8543, F1: 0.2647, Precision: 0.1969, Recall: 0.4035, ROC: 0.7526\n",
      "Epoch: 230, Loss: 0.1328, Accuracy: 0.8566, F1: 0.2682, Precision: 0.2006, Recall: 0.4044, ROC: 0.7529\n",
      "Epoch: 240, Loss: 0.1323, Accuracy: 0.8602, F1: 0.2736, Precision: 0.2065, Recall: 0.4054, ROC: 0.7534\n",
      "Epoch: 250, Loss: 0.1318, Accuracy: 0.8630, F1: 0.2786, Precision: 0.2117, Recall: 0.4072, ROC: 0.7540\n",
      "Epoch: 260, Loss: 0.1313, Accuracy: 0.8657, F1: 0.2832, Precision: 0.2168, Recall: 0.4081, ROC: 0.7548\n",
      "Epoch: 270, Loss: 0.1308, Accuracy: 0.8686, F1: 0.2876, Precision: 0.2220, Recall: 0.4081, ROC: 0.7557\n",
      "Epoch: 280, Loss: 0.1303, Accuracy: 0.8702, F1: 0.2897, Precision: 0.2248, Recall: 0.4072, ROC: 0.7568\n",
      "Epoch: 290, Loss: 0.1299, Accuracy: 0.8728, F1: 0.2946, Precision: 0.2302, Recall: 0.4090, ROC: 0.7579\n",
      "Epoch: 300, Loss: 0.1294, Accuracy: 0.8748, F1: 0.2980, Precision: 0.2344, Recall: 0.4090, ROC: 0.7591\n",
      "Epoch: 310, Loss: 0.1290, Accuracy: 0.8771, F1: 0.3025, Precision: 0.2396, Recall: 0.4100, ROC: 0.7603\n",
      "Epoch: 320, Loss: 0.1286, Accuracy: 0.8794, F1: 0.3063, Precision: 0.2445, Recall: 0.4100, ROC: 0.7616\n",
      "Epoch: 330, Loss: 0.1282, Accuracy: 0.8815, F1: 0.3105, Precision: 0.2496, Recall: 0.4109, ROC: 0.7629\n",
      "Epoch: 340, Loss: 0.1278, Accuracy: 0.8836, F1: 0.3164, Precision: 0.2558, Recall: 0.4146, ROC: 0.7642\n",
      "Epoch: 350, Loss: 0.1274, Accuracy: 0.8861, F1: 0.3244, Precision: 0.2639, Recall: 0.4211, ROC: 0.7658\n",
      "Epoch: 360, Loss: 0.1270, Accuracy: 0.8884, F1: 0.3289, Precision: 0.2698, Recall: 0.4211, ROC: 0.7673\n",
      "Epoch: 370, Loss: 0.1266, Accuracy: 0.8905, F1: 0.3355, Precision: 0.2769, Recall: 0.4257, ROC: 0.7690\n",
      "Epoch: 380, Loss: 0.1262, Accuracy: 0.8929, F1: 0.3385, Precision: 0.2826, Recall: 0.4220, ROC: 0.7708\n",
      "Epoch: 390, Loss: 0.1259, Accuracy: 0.8954, F1: 0.3460, Precision: 0.2914, Recall: 0.4257, ROC: 0.7728\n",
      "Epoch: 400, Loss: 0.1255, Accuracy: 0.8977, F1: 0.3494, Precision: 0.2976, Recall: 0.4229, ROC: 0.7749\n",
      "Epoch: 410, Loss: 0.1251, Accuracy: 0.8996, F1: 0.3542, Precision: 0.3042, Recall: 0.4238, ROC: 0.7771\n",
      "Epoch: 420, Loss: 0.1248, Accuracy: 0.9008, F1: 0.3554, Precision: 0.3075, Recall: 0.4211, ROC: 0.7793\n",
      "Epoch: 430, Loss: 0.1244, Accuracy: 0.9018, F1: 0.3578, Precision: 0.3111, Recall: 0.4211, ROC: 0.7816\n",
      "Epoch: 440, Loss: 0.1241, Accuracy: 0.9038, F1: 0.3630, Precision: 0.3185, Recall: 0.4220, ROC: 0.7838\n",
      "Epoch: 450, Loss: 0.1237, Accuracy: 0.9059, F1: 0.3683, Precision: 0.3267, Recall: 0.4220, ROC: 0.7861\n",
      "Epoch: 460, Loss: 0.1234, Accuracy: 0.9077, F1: 0.3726, Precision: 0.3336, Recall: 0.4220, ROC: 0.7882\n",
      "Epoch: 470, Loss: 0.1230, Accuracy: 0.9092, F1: 0.3771, Precision: 0.3403, Recall: 0.4229, ROC: 0.7903\n",
      "Epoch: 480, Loss: 0.1227, Accuracy: 0.9105, F1: 0.3773, Precision: 0.3442, Recall: 0.4174, ROC: 0.7923\n",
      "Epoch: 490, Loss: 0.1223, Accuracy: 0.9117, F1: 0.3805, Precision: 0.3496, Recall: 0.4174, ROC: 0.7942\n",
      "Epoch: 500, Loss: 0.1220, Accuracy: 0.9124, F1: 0.3829, Precision: 0.3531, Recall: 0.4183, ROC: 0.7961\n"
     ]
    }
   ],
   "source": [
    "model = GCN(num_features, 2).to(device)\n",
    "num_epochs = 500\n",
    "lr = 0.001\n",
    "optimizer = torch.optim.Adam(model.parameters(), lr=lr)\n",
    "\n",
    "for epoch in range(num_epochs+1):\n",
    "    loss = train(model, data_graph, optimizer)\n",
    "    acc, f1, precision, recall, roc = test(model, data_graph)\n",
    "    if epoch % 10 == 0:\n",
    "        print(f'Epoch: {epoch:03d}, Loss: {loss:.4f}, Accuracy: {acc:.4f}, F1: {f1:.4f}, Precision: {precision:.4f}, Recall: {recall:.4f}, ROC: {roc:.4f}')"
   ]
  },
  {
   "cell_type": "code",
   "execution_count": 27,
   "metadata": {},
   "outputs": [
    {
     "name": "stdout",
     "output_type": "stream",
     "text": [
      "Accuracy: 0.9124, F1: 0.3829, Precision: 0.3531, Recall: 0.4183, ROC: 0.7961\n"
     ]
    }
   ],
   "source": [
    "# test \n",
    "acc, f1, precision, recall, roc = test(model, data_graph)\n",
    "print(f\"Accuracy: {acc:.4f}, F1: {f1:.4f}, Precision: {precision:.4f}, Recall: {recall:.4f}, ROC: {roc:.4f}\")"
   ]
  }
 ],
 "metadata": {
  "kernelspec": {
   "display_name": "Python 3",
   "language": "python",
   "name": "python3"
  },
  "language_info": {
   "codemirror_mode": {
    "name": "ipython",
    "version": 3
   },
   "file_extension": ".py",
   "mimetype": "text/x-python",
   "name": "python",
   "nbconvert_exporter": "python",
   "pygments_lexer": "ipython3",
   "version": "3.8.10"
  },
  "orig_nbformat": 4
 },
 "nbformat": 4,
 "nbformat_minor": 2
}
