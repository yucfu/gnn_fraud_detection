{
 "cells": [
  {
   "attachments": {},
   "cell_type": "markdown",
   "metadata": {},
   "source": [
    "# FlowScope: Spotting Money Laundering Based on Graphs"
   ]
  },
  {
   "attachments": {},
   "cell_type": "markdown",
   "metadata": {},
   "source": [
    "## Abstract"
   ]
  },
  {
   "attachments": {},
   "cell_type": "markdown",
   "metadata": {},
   "source": [
    "Given a graph of the money transfers between accounts of\n",
    "a bank, how can we detect money laundering? Money laundering refers to criminals using the bank’s services to move\n",
    "massive amounts of illegal money to untraceable destination\n",
    "accounts, in order to inject their illegal money into the legitimate financial system. Existing graph fraud detection approaches focus on dense subgraph detection, without considering the fact that money laundering involves high-volume\n",
    "flows of funds through chains of bank accounts, thereby\n",
    "decreasing their detection accuracy. Instead, we propose to\n",
    "model the transactions using a multipartite graph, and detect the complete flow of money from source to destination\n",
    "using a scalable algorithm, FlowScope. Theoretical analysis\n",
    "shows that FlowScope provides guarantees in terms of the\n",
    "amount of money that fraudsters can transfer without being\n",
    "detected. FlowScope outperforms state-of-the-art baselines in\n",
    "accurately detecting the accounts involved in money laundering, in both injected and real-world data settings.\n"
   ]
  },
  {
   "cell_type": "code",
   "execution_count": 1,
   "metadata": {},
   "outputs": [
    {
     "name": "stdout",
     "output_type": "stream",
     "text": [
      "Using backend cpu\n"
     ]
    }
   ],
   "source": [
    "import spartan as st"
   ]
  },
  {
   "cell_type": "code",
   "execution_count": 2,
   "metadata": {},
   "outputs": [],
   "source": [
    "# load graph data\n",
    "fs1_tensor_data = st.loadTensor(path = \"data/fs_in_data.csv.gz\", header=None)\n",
    "fs2_tensor_data = st.loadTensor(path = \"data/fs_out_data.csv.gz\", header=None)"
   ]
  },
  {
   "attachments": {},
   "cell_type": "markdown",
   "metadata": {},
   "source": [
    "\"tensor_data.data\" has two-colum attributes, and a single-colum values. The following table shows an example of 1000 two-tuple (source account id, destination account id) and the 3th-colum is the money."
   ]
  },
  {
   "attachments": {},
   "cell_type": "markdown",
   "metadata": {},
   "source": [
    "| row id |    0    |    1    |    2   |\n",
    "| :----  | :----   | :----   | :----  |\n",
    "| 0 | 0  |  3009   | 1000 |\n",
    "| 1 | 1  |  915   | 937 |\n",
    "| 2 | 2  |  3061   | 0 |\n",
    "| 3 | 3  |  55   | 6000 |\n",
    "| 4 | 4  |  939   | 157 |\n",
    "| ... | ...  |  ...  | ... |\n",
    "|995|\t621\t|3328 |\t50000\n",
    "|996|\t622\t|1278 |\t3100\n",
    "|997|\t623\t|2470 |\t3000\n",
    "|998|\t375\t|1350 |\t20000\n",
    "|999|\t624\t|3329 |\t1000\n"
   ]
  },
  {
   "cell_type": "code",
   "execution_count": 5,
   "metadata": {},
   "outputs": [],
   "source": [
    "fs1_stensor = fs1_tensor_data.toSTensor(hasvalue=True)\n",
    "fs2_stensor = fs2_tensor_data.toSTensor(hasvalue=True)"
   ]
  },
  {
   "cell_type": "code",
   "execution_count": null,
   "metadata": {},
   "outputs": [],
   "source": [
    "#fs1_stensor._data\n",
    "#fs2_stensor._data"
   ]
  },
  {
   "attachments": {},
   "cell_type": "markdown",
   "metadata": {},
   "source": [
    "Sparse tensors \"fs1_stensor\" and \"fs2_stensor\" are matrices constructed from tensor_data. The amounts of money are elements in those matrices.\n",
    "\n",
    "The size of fs1_stensor in this example is $1334 \\times 3430 $, and the size of fs2_stensor is $2203 \\times 1909 $."
   ]
  },
  {
   "cell_type": "code",
   "execution_count": 8,
   "metadata": {},
   "outputs": [],
   "source": [
    "maxshape = max(fs1_stensor.shape[1], fs2_stensor.shape[0])\n",
    "fs1_stensor.shape = (fs1_stensor.shape[0], maxshape)\n",
    "fs2_stensor.shape = (maxshape, fs2_stensor.shape[1])"
   ]
  },
  {
   "attachments": {},
   "cell_type": "markdown",
   "metadata": {},
   "source": [
    "Change the shape of two stensors, make sure they have the same size in middle dimension.\n",
    "\n",
    "In this case, those matrices have sizes of $1334 \\times 3430$ and $3430 \\times 1909$"
   ]
  },
  {
   "cell_type": "code",
   "execution_count": 9,
   "metadata": {},
   "outputs": [],
   "source": [
    "graph_1 = st.Graph(fs1_stensor, bipartite=True, weighted=True, modet=None)\n",
    "graph_2 = st.Graph(fs2_stensor, bipartite=True, weighted=True, modet=None)"
   ]
  },
  {
   "attachments": {},
   "cell_type": "markdown",
   "metadata": {},
   "source": [
    "Get graph instances from sparse tensors."
   ]
  },
  {
   "cell_type": "code",
   "execution_count": 10,
   "metadata": {},
   "outputs": [],
   "source": [
    "step2list = []\n",
    "step2list.append(graph_1)\n",
    "step2list.append(graph_2)"
   ]
  },
  {
   "attachments": {},
   "cell_type": "markdown",
   "metadata": {},
   "source": [
    "Create a graph list, and add graphs in order"
   ]
  },
  {
   "attachments": {},
   "cell_type": "markdown",
   "metadata": {},
   "source": [
    "### Run FlowScope as a single model"
   ]
  },
  {
   "cell_type": "code",
   "execution_count": 11,
   "metadata": {},
   "outputs": [],
   "source": [
    "fs = st.FlowScope(step2list)"
   ]
  },
  {
   "attachments": {},
   "cell_type": "markdown",
   "metadata": {},
   "source": [
    "Note: This model does not support GPU, so it will not be accelerated in GPU mode"
   ]
  },
  {
   "cell_type": "code",
   "execution_count": 12,
   "metadata": {},
   "outputs": [
    {
     "name": "stdout",
     "output_type": "stream",
     "text": [
      "{'graphnum': 2, 'graphlist': [<spartan.tensor.graph.Graph object at 0x28a9ceaa0>, <spartan.tensor.graph.Graph object at 0x28a9cf430>]}\n"
     ]
    }
   ],
   "source": [
    "print(fs)"
   ]
  },
  {
   "attachments": {},
   "cell_type": "markdown",
   "metadata": {},
   "source": [
    "Default parameters are: {'alpha': '4'}\n",
    "\n",
    "alpha is equivalent to $\\lambda$ in the paper"
   ]
  },
  {
   "cell_type": "code",
   "execution_count": 13,
   "metadata": {},
   "outputs": [
    {
     "name": "stdout",
     "output_type": "stream",
     "text": [
      "you are running with  3  partite graph\n",
      "this is the cpu version of FlowScope\n",
      "start  greedy\n",
      "initial score of g(S): -19063.209800689343\n",
      "best delete number :  6647\n",
      "nodes number remaining:  3 0 3 \n",
      "matrix mass remaining:  0.0 0.0 \n",
      "best score of g(S):  14313.653846153848\n",
      "min value of the tree :  (11, 0.0) (0, inf) (250, 0.0) \n",
      "the block size is: 10 7 9 \n",
      "\n",
      "this is the cpu version of FlowScope\n",
      "start  greedy\n",
      "initial score of g(S): -19053.298066836505\n",
      "best delete number :  6658\n",
      "nodes number remaining:  1 0 4 \n",
      "matrix mass remaining:  0.0 0.0 \n",
      "best score of g(S):  11218.333333333332\n",
      "min value of the tree :  (529, 0.0) (0, inf) (1272, 0.0) \n",
      "the block size is: 3 3 9 \n",
      "\n",
      "this is the cpu version of FlowScope\n",
      "start  greedy\n",
      "initial score of g(S): -19030.03371796793\n",
      "best delete number :  6657\n",
      "nodes number remaining:  3 0 5 \n",
      "matrix mass remaining:  0.0 0.0 \n",
      "best score of g(S):  9077.5625\n",
      "min value of the tree :  (346, 0.0) (0, inf) (4, 0.0) \n",
      "the block size is: 6 3 7 \n",
      "\n"
     ]
    }
   ],
   "source": [
    "res = fs.run(k=3, alpha=4,maxsize=(10,10,10))"
   ]
  },
  {
   "attachments": {},
   "cell_type": "markdown",
   "metadata": {},
   "source": [
    "$k$ is the number of blocks you want to detect.\n",
    "\n",
    "$res$ is a list of each block. Each block constains [[detected nodes in each partite], score]"
   ]
  },
  {
   "attachments": {},
   "cell_type": "markdown",
   "metadata": {},
   "source": [
    "### Run FlowScope from anomaly detection task"
   ]
  },
  {
   "cell_type": "code",
   "execution_count": 14,
   "metadata": {},
   "outputs": [],
   "source": [
    "ad_model = st.AnomalyDetection.create(step2list, st.ADPolicy.FlowScope, 'flowscope')"
   ]
  },
  {
   "cell_type": "code",
   "execution_count": 15,
   "metadata": {},
   "outputs": [
    {
     "name": "stdout",
     "output_type": "stream",
     "text": [
      "you are running with  3  partite graph\n",
      "this is the cpu version of FlowScope\n",
      "start  greedy\n",
      "initial score of g(S): -19063.209800689343\n",
      "best delete number :  6647\n",
      "nodes number remaining:  3 0 3 \n",
      "matrix mass remaining:  0.0 0.0 \n",
      "best score of g(S):  14313.653846153848\n",
      "min value of the tree :  (11, 0.0) (0, inf) (250, 0.0) \n",
      "the block size is: 10 7 9 \n",
      "\n",
      "this is the cpu version of FlowScope\n",
      "start  greedy\n",
      "initial score of g(S): -19053.298066836505\n",
      "best delete number :  6658\n",
      "nodes number remaining:  1 0 4 \n",
      "matrix mass remaining:  0.0 0.0 \n",
      "best score of g(S):  11218.333333333332\n",
      "min value of the tree :  (529, 0.0) (0, inf) (1272, 0.0) \n",
      "the block size is: 3 3 9 \n",
      "\n",
      "this is the cpu version of FlowScope\n",
      "start  greedy\n",
      "initial score of g(S): -19030.03371796793\n",
      "best delete number :  6657\n",
      "nodes number remaining:  3 0 5 \n",
      "matrix mass remaining:  0.0 0.0 \n",
      "best score of g(S):  9077.5625\n",
      "min value of the tree :  (346, 0.0) (0, inf) (4, 0.0) \n",
      "the block size is: 6 3 7 \n",
      "\n"
     ]
    }
   ],
   "source": [
    "# run the model\n",
    "#default k=3, alpha=4\n",
    "res = ad_model.run(k=3,alpha=4,maxsize=(-1,-1,100))"
   ]
  },
  {
   "attachments": {},
   "cell_type": "markdown",
   "metadata": {},
   "source": [
    "$maxsize$ is the block size limit.\n",
    "\n",
    "$maxsize$ can be an integer (-1 or positive), and $maxsize==-1$ means no size limit.\n",
    "\n",
    "$maxsize$ can be a tuple which contains the node size limit for each dimension of the block. Similarly, each element of $maxsize$ should be an integer (-1 or positive).\n",
    "\n",
    "The results is a list of top-k suspicious blocks. Each block constains [[detected nodes in each partite], score]\n",
    "\n",
    "Then we can visualize the subgraphs as follows."
   ]
  },
  {
   "cell_type": "code",
   "execution_count": 17,
   "metadata": {
    "scrolled": false
   },
   "outputs": [
    {
     "ename": "TypeError",
     "evalue": "len() of unsized object",
     "output_type": "error",
     "traceback": [
      "\u001b[0;31m---------------------------------------------------------------------------\u001b[0m",
      "\u001b[0;31mTypeError\u001b[0m                                 Traceback (most recent call last)",
      "Cell \u001b[0;32mIn[17], line 10\u001b[0m\n\u001b[1;32m      8\u001b[0m three \u001b[39m=\u001b[39m np\u001b[39m.\u001b[39marray(three)\n\u001b[1;32m      9\u001b[0m \u001b[39m# to subgraph\u001b[39;00m\n\u001b[0;32m---> 10\u001b[0m sg_1 \u001b[39m=\u001b[39m graph_1\u001b[39m.\u001b[39;49mget_sub_graph(one, two)\n\u001b[1;32m     11\u001b[0m sg_2 \u001b[39m=\u001b[39m graph_2\u001b[39m.\u001b[39mget_sub_graph(two, three)\n\u001b[1;32m     12\u001b[0m \u001b[39m# networkx plot\u001b[39;00m\n",
      "File \u001b[0;32m~/opt/anaconda3/envs/dgl/lib/python3.10/site-packages/spartan/tensor/graph.py:65\u001b[0m, in \u001b[0;36mGraph.get_sub_graph\u001b[0;34m(self, rows, cols)\u001b[0m\n\u001b[1;32m     62\u001b[0m gr \u001b[39m=\u001b[39m \u001b[39m-\u001b[39m\u001b[39m1\u001b[39m \u001b[39m*\u001b[39m st\u001b[39m.\u001b[39mones(cootensor\u001b[39m.\u001b[39mshape[\u001b[39m0\u001b[39m], dtype\u001b[39m=\u001b[39m\u001b[39mint\u001b[39m)\n\u001b[1;32m     63\u001b[0m gc \u001b[39m=\u001b[39m \u001b[39m-\u001b[39m\u001b[39m1\u001b[39m \u001b[39m*\u001b[39m st\u001b[39m.\u001b[39mones(cootensor\u001b[39m.\u001b[39mshape[\u001b[39m1\u001b[39m], dtype\u001b[39m=\u001b[39m\u001b[39mint\u001b[39m)\n\u001b[0;32m---> 65\u001b[0m lr \u001b[39m=\u001b[39m \u001b[39mlen\u001b[39;49m(rows)\n\u001b[1;32m     66\u001b[0m lc \u001b[39m=\u001b[39m \u001b[39mlen\u001b[39m(cols)\n\u001b[1;32m     68\u001b[0m ar \u001b[39m=\u001b[39m st\u001b[39m.\u001b[39marange(\u001b[39m0\u001b[39m, lr, \u001b[39m1\u001b[39m)\n",
      "\u001b[0;31mTypeError\u001b[0m: len() of unsized object"
     ]
    }
   ],
   "source": [
    "#viusal of graphs by networkx\n",
    "import matplotlib.pyplot as plt\n",
    "import numpy as np\n",
    "for r in res:\n",
    "    one, two, three = r[0]\n",
    "    one = np.array(one)\n",
    "    two = np.array(two)\n",
    "    three = np.array(three)\n",
    "    # to subgraph\n",
    "    sg_1 = graph_1.get_sub_graph(one, two)\n",
    "    sg_2 = graph_2.get_sub_graph(two, three)\n",
    "    # networkx plot\n",
    "    fig_1 = st.plot_graph(sg_1, bipartite=True, labels=[*one, *two])\n",
    "    fig_2 = st.plot_graph(sg_2, bipartite=True, labels=[*two, *three])"
   ]
  },
  {
   "attachments": {},
   "cell_type": "markdown",
   "metadata": {},
   "source": [
    "| Block 1| Block 2| Block 3|\n",
    "|:--:|:---:|:--:|\n",
    "|<img src=\"images/flowResGraph_1.png\" />|<img src=\"images/flowResGraph_2.png\" />|<img src=\"images/flowResGraph_3.png\" />|"
   ]
  },
  {
   "attachments": {},
   "cell_type": "markdown",
   "metadata": {},
   "source": [
    "## Experimental results:"
   ]
  },
  {
   "attachments": {},
   "cell_type": "markdown",
   "metadata": {},
   "source": [
    "-----\n",
    "|HoloScope (result in CBank)       |  \n",
    "|:-------------------------:|\n",
    "<img src=\"images/flowscopeRes_1.png\" />\n",
    "|<b> Model analysis of FlowScope.|\n",
    "\n",
    "<img src=\"images/flowscopeRes2.png\" />"
   ]
  },
  {
   "attachments": {},
   "cell_type": "markdown",
   "metadata": {},
   "source": [
    "### Cite:\n",
    "------\n",
    "1. Li, Xiangfeng, Shenghua Liu, Zifeng Li, Xiaotian Han, Chuan Shi, Bryan Hooi, He Huang, and Xueqi Cheng. \"FlowScope: Spotting Money Laundering Based on Graphs.\" In AAAI, pp. 4731-4738. 2020.\n",
    "<details>\n",
    "    <summary><span style=\"color:blue\">click for BibTex...</span></summary>\n",
    "\n",
    "    ```bibtex\n",
    "    @inproceedings{li2020flowscope,\n",
    "      title={FlowScope: Spotting Money Laundering Based on Graphs.},\n",
    "      author={Li, Xiangfeng and Liu, Shenghua and Li, Zifeng and Han, Xiaotian and Shi, Chuan and Hooi, Bryan and Huang, He and Cheng, Xueqi},\n",
    "      booktitle={AAAI},\n",
    "      pages={4731--4738},\n",
    "      year={2020}\n",
    "    }\n",
    "    ```\n",
    "    </details>  "
   ]
  }
 ],
 "metadata": {
  "kernelspec": {
   "display_name": "dgl",
   "language": "python",
   "name": "python3"
  },
  "language_info": {
   "codemirror_mode": {
    "name": "ipython",
    "version": 3
   },
   "file_extension": ".py",
   "mimetype": "text/x-python",
   "name": "python",
   "nbconvert_exporter": "python",
   "pygments_lexer": "ipython3",
   "version": "3.10.11"
  }
 },
 "nbformat": 4,
 "nbformat_minor": 2
}
