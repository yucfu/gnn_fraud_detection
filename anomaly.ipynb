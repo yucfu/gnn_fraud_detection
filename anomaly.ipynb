{
 "cells": [
  {
   "attachments": {},
   "cell_type": "markdown",
   "metadata": {},
   "source": [
    "Near-cliques and stars: In a Bitcoin transaction graph, near-cliques could correspond to a group of addresses that frequently transact with each other, indicating potential collusion or money laundering activities. On the other hand, stars could represent addresses that are isolated from the rest of the network, potentially indicating suspicious behavior or attempts to hide connections.\n",
    "\n",
    "Heavy vicinities: In the context of Bitcoin transactions, heavy vicinities could indicate abnormal transaction patterns between a specific address and a large number of distinct addresses. This could suggest activities such as mixing services or attempts to obfuscate the transaction flow by involving multiple addresses.\n",
    "\n",
    "Dominant heavy links: A dominant heavy link in the 1-step neighborhood of an address could indicate a disproportionate amount of transactions with a particular address or entity. This could be indicative of a stalker-like behavior or an address that is being used excessively for fraudulent activities."
   ]
  },
  {
   "attachments": {},
   "cell_type": "markdown",
   "metadata": {},
   "source": [
    "## Convert edges to txt"
   ]
  },
  {
   "cell_type": "code",
   "execution_count": 3,
   "metadata": {},
   "outputs": [],
   "source": [
    "import numpy as np\n",
    "import pandas as pd"
   ]
  },
  {
   "cell_type": "code",
   "execution_count": 4,
   "metadata": {},
   "outputs": [
    {
     "data": {
      "text/html": [
       "<div>\n",
       "<style scoped>\n",
       "    .dataframe tbody tr th:only-of-type {\n",
       "        vertical-align: middle;\n",
       "    }\n",
       "\n",
       "    .dataframe tbody tr th {\n",
       "        vertical-align: top;\n",
       "    }\n",
       "\n",
       "    .dataframe thead th {\n",
       "        text-align: right;\n",
       "    }\n",
       "</style>\n",
       "<table border=\"1\" class=\"dataframe\">\n",
       "  <thead>\n",
       "    <tr style=\"text-align: right;\">\n",
       "      <th></th>\n",
       "      <th>txId1</th>\n",
       "      <th>txId2</th>\n",
       "    </tr>\n",
       "  </thead>\n",
       "  <tbody>\n",
       "    <tr>\n",
       "      <th>0</th>\n",
       "      <td>230425980</td>\n",
       "      <td>5530458</td>\n",
       "    </tr>\n",
       "    <tr>\n",
       "      <th>1</th>\n",
       "      <td>232022460</td>\n",
       "      <td>232438397</td>\n",
       "    </tr>\n",
       "    <tr>\n",
       "      <th>2</th>\n",
       "      <td>230460314</td>\n",
       "      <td>230459870</td>\n",
       "    </tr>\n",
       "    <tr>\n",
       "      <th>3</th>\n",
       "      <td>230333930</td>\n",
       "      <td>230595899</td>\n",
       "    </tr>\n",
       "    <tr>\n",
       "      <th>4</th>\n",
       "      <td>232013274</td>\n",
       "      <td>232029206</td>\n",
       "    </tr>\n",
       "  </tbody>\n",
       "</table>\n",
       "</div>"
      ],
      "text/plain": [
       "       txId1      txId2\n",
       "0  230425980    5530458\n",
       "1  232022460  232438397\n",
       "2  230460314  230459870\n",
       "3  230333930  230595899\n",
       "4  232013274  232029206"
      ]
     },
     "metadata": {},
     "output_type": "display_data"
    }
   ],
   "source": [
    "df_edge = pd.read_csv('data/elliptic_txs_edgelist.csv')\n",
    "display(df_edge.head())"
   ]
  },
  {
   "cell_type": "code",
   "execution_count": 5,
   "metadata": {},
   "outputs": [
    {
     "data": {
      "text/html": [
       "<div>\n",
       "<style scoped>\n",
       "    .dataframe tbody tr th:only-of-type {\n",
       "        vertical-align: middle;\n",
       "    }\n",
       "\n",
       "    .dataframe tbody tr th {\n",
       "        vertical-align: top;\n",
       "    }\n",
       "\n",
       "    .dataframe thead th {\n",
       "        text-align: right;\n",
       "    }\n",
       "</style>\n",
       "<table border=\"1\" class=\"dataframe\">\n",
       "  <thead>\n",
       "    <tr style=\"text-align: right;\">\n",
       "      <th></th>\n",
       "      <th>txId1</th>\n",
       "      <th>txId2</th>\n",
       "      <th>weight</th>\n",
       "    </tr>\n",
       "  </thead>\n",
       "  <tbody>\n",
       "    <tr>\n",
       "      <th>0</th>\n",
       "      <td>230425980</td>\n",
       "      <td>5530458</td>\n",
       "      <td>1</td>\n",
       "    </tr>\n",
       "    <tr>\n",
       "      <th>1</th>\n",
       "      <td>232022460</td>\n",
       "      <td>232438397</td>\n",
       "      <td>1</td>\n",
       "    </tr>\n",
       "    <tr>\n",
       "      <th>2</th>\n",
       "      <td>230460314</td>\n",
       "      <td>230459870</td>\n",
       "      <td>1</td>\n",
       "    </tr>\n",
       "    <tr>\n",
       "      <th>3</th>\n",
       "      <td>230333930</td>\n",
       "      <td>230595899</td>\n",
       "      <td>1</td>\n",
       "    </tr>\n",
       "    <tr>\n",
       "      <th>4</th>\n",
       "      <td>232013274</td>\n",
       "      <td>232029206</td>\n",
       "      <td>1</td>\n",
       "    </tr>\n",
       "  </tbody>\n",
       "</table>\n",
       "</div>"
      ],
      "text/plain": [
       "       txId1      txId2  weight\n",
       "0  230425980    5530458       1\n",
       "1  232022460  232438397       1\n",
       "2  230460314  230459870       1\n",
       "3  230333930  230595899       1\n",
       "4  232013274  232029206       1"
      ]
     },
     "metadata": {},
     "output_type": "display_data"
    }
   ],
   "source": [
    "# convert deges to (1 2 weight) format in txt file\n",
    "df_edge['txId1'] = df_edge['txId1'].astype(str)\n",
    "df_edge['txId2'] = df_edge['txId2'].astype(str)\n",
    "# calculate weight, number of occurences of each edge\n",
    "df_edge['weight'] = df_edge.groupby(['txId1', 'txId2'])['txId1'].transform('count')\n",
    "display(df_edge.head())\n",
    "\n",
    "df_edge[['txId1', 'txId2', 'weight']].to_csv('oddball/converted_data/elliptic_txs_edgelist.txt', sep=' ', header=False, index=False)"
   ]
  },
  {
   "attachments": {},
   "cell_type": "markdown",
   "metadata": {},
   "source": [
    "## Run oddball"
   ]
  },
  {
   "attachments": {},
   "cell_type": "markdown",
   "metadata": {},
   "source": [
    "## Run\n",
    "The input is a weighted undirected graph which format is 'edge1 edge2 weight'.  \n",
    "### Options:  \n",
    "  --input: input file  \n",
    "  --output: output file  \n",
    "  --lof: Use LOF. 0: not use. 1: use. Default value is 0.  \n",
    "  --anomaly_type: Anomaly Type. 1:star_or_clique. 2:heavy_vicinity. 3:dominant_edge.\n",
    "\n",
    "You can use --help for more details.  \n",
    "Here is a sample.\n",
    "```\n",
    "python main.py --input inputFile --output outputFile --lof 0 --anomaly_type 1\n",
    "```"
   ]
  },
  {
   "cell_type": "code",
   "execution_count": 6,
   "metadata": {},
   "outputs": [],
   "source": [
    "!python oddball/code/main.py --input oddball/converted_data/elliptic_txs_edgelist.txt --output oddball/converted_data/result/output.txt --lof 0 --anomaly_type 1"
   ]
  }
 ],
 "metadata": {
  "kernelspec": {
   "display_name": ".venv",
   "language": "python",
   "name": "python3"
  },
  "language_info": {
   "codemirror_mode": {
    "name": "ipython",
    "version": 3
   },
   "file_extension": ".py",
   "mimetype": "text/x-python",
   "name": "python",
   "nbconvert_exporter": "python",
   "pygments_lexer": "ipython3",
   "version": "3.8.10"
  },
  "orig_nbformat": 4
 },
 "nbformat": 4,
 "nbformat_minor": 2
}
