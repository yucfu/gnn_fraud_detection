{
 "cells": [
  {
   "attachments": {},
   "cell_type": "markdown",
   "metadata": {},
   "source": [
    "Near-cliques and stars: In a Bitcoin transaction graph, near-cliques could correspond to a group of addresses that frequently transact with each other, indicating potential collusion or money laundering activities. On the other hand, stars could represent addresses that are isolated from the rest of the network, potentially indicating suspicious behavior or attempts to hide connections.\n",
    "\n",
    "Heavy vicinities: In the context of Bitcoin transactions, heavy vicinities could indicate abnormal transaction patterns between a specific address and a large number of distinct addresses. This could suggest activities such as mixing services or attempts to obfuscate the transaction flow by involving multiple addresses.\n",
    "\n",
    "Dominant heavy links: A dominant heavy link in the 1-step neighborhood of an address could indicate a disproportionate amount of transactions with a particular address or entity. This could be indicative of a stalker-like behavior or an address that is being used excessively for fraudulent activities."
   ]
  },
  {
   "attachments": {},
   "cell_type": "markdown",
   "metadata": {},
   "source": [
    "## Convert edges to txt"
   ]
  },
  {
   "cell_type": "code",
   "execution_count": 1,
   "metadata": {},
   "outputs": [],
   "source": [
    "import numpy as np\n",
    "import pandas as pd"
   ]
  },
  {
   "cell_type": "code",
   "execution_count": 2,
   "metadata": {},
   "outputs": [
    {
     "data": {
      "text/html": [
       "<div>\n",
       "<style scoped>\n",
       "    .dataframe tbody tr th:only-of-type {\n",
       "        vertical-align: middle;\n",
       "    }\n",
       "\n",
       "    .dataframe tbody tr th {\n",
       "        vertical-align: top;\n",
       "    }\n",
       "\n",
       "    .dataframe thead th {\n",
       "        text-align: right;\n",
       "    }\n",
       "</style>\n",
       "<table border=\"1\" class=\"dataframe\">\n",
       "  <thead>\n",
       "    <tr style=\"text-align: right;\">\n",
       "      <th></th>\n",
       "      <th>ID1</th>\n",
       "      <th>ID2</th>\n",
       "    </tr>\n",
       "  </thead>\n",
       "  <tbody>\n",
       "    <tr>\n",
       "      <th>0</th>\n",
       "      <td>12230</td>\n",
       "      <td>6579</td>\n",
       "    </tr>\n",
       "    <tr>\n",
       "      <th>1</th>\n",
       "      <td>12230</td>\n",
       "      <td>8455</td>\n",
       "    </tr>\n",
       "    <tr>\n",
       "      <th>2</th>\n",
       "      <td>12230</td>\n",
       "      <td>272</td>\n",
       "    </tr>\n",
       "    <tr>\n",
       "      <th>3</th>\n",
       "      <td>12230</td>\n",
       "      <td>7868</td>\n",
       "    </tr>\n",
       "    <tr>\n",
       "      <th>4</th>\n",
       "      <td>12230</td>\n",
       "      <td>12859</td>\n",
       "    </tr>\n",
       "  </tbody>\n",
       "</table>\n",
       "</div>"
      ],
      "text/plain": [
       "     ID1    ID2\n",
       "0  12230   6579\n",
       "1  12230   8455\n",
       "2  12230    272\n",
       "3  12230   7868\n",
       "4  12230  12859"
      ]
     },
     "metadata": {},
     "output_type": "display_data"
    },
    {
     "name": "stdout",
     "output_type": "stream",
     "text": [
      "(6032438, 2)\n"
     ]
    }
   ],
   "source": [
    "df_edge = pd.read_csv('data/t_finance/edges.csv')\n",
    "display(df_edge.head())\n",
    "print(df_edge.shape)"
   ]
  },
  {
   "cell_type": "code",
   "execution_count": 3,
   "metadata": {},
   "outputs": [
    {
     "name": "stdout",
     "output_type": "stream",
     "text": [
      "0\n"
     ]
    }
   ],
   "source": [
    "# cout duplicate edges\n",
    "print(df_edge.duplicated().sum())"
   ]
  },
  {
   "cell_type": "code",
   "execution_count": 4,
   "metadata": {},
   "outputs": [
    {
     "data": {
      "text/html": [
       "<div>\n",
       "<style scoped>\n",
       "    .dataframe tbody tr th:only-of-type {\n",
       "        vertical-align: middle;\n",
       "    }\n",
       "\n",
       "    .dataframe tbody tr th {\n",
       "        vertical-align: top;\n",
       "    }\n",
       "\n",
       "    .dataframe thead th {\n",
       "        text-align: right;\n",
       "    }\n",
       "</style>\n",
       "<table border=\"1\" class=\"dataframe\">\n",
       "  <thead>\n",
       "    <tr style=\"text-align: right;\">\n",
       "      <th></th>\n",
       "      <th>ID1</th>\n",
       "      <th>ID2</th>\n",
       "      <th>weight</th>\n",
       "    </tr>\n",
       "  </thead>\n",
       "  <tbody>\n",
       "    <tr>\n",
       "      <th>0</th>\n",
       "      <td>12230</td>\n",
       "      <td>6579</td>\n",
       "      <td>1</td>\n",
       "    </tr>\n",
       "    <tr>\n",
       "      <th>1</th>\n",
       "      <td>12230</td>\n",
       "      <td>8455</td>\n",
       "      <td>1</td>\n",
       "    </tr>\n",
       "    <tr>\n",
       "      <th>2</th>\n",
       "      <td>12230</td>\n",
       "      <td>272</td>\n",
       "      <td>1</td>\n",
       "    </tr>\n",
       "    <tr>\n",
       "      <th>3</th>\n",
       "      <td>12230</td>\n",
       "      <td>7868</td>\n",
       "      <td>1</td>\n",
       "    </tr>\n",
       "    <tr>\n",
       "      <th>4</th>\n",
       "      <td>12230</td>\n",
       "      <td>12859</td>\n",
       "      <td>1</td>\n",
       "    </tr>\n",
       "  </tbody>\n",
       "</table>\n",
       "</div>"
      ],
      "text/plain": [
       "     ID1    ID2  weight\n",
       "0  12230   6579       1\n",
       "1  12230   8455       1\n",
       "2  12230    272       1\n",
       "3  12230   7868       1\n",
       "4  12230  12859       1"
      ]
     },
     "metadata": {},
     "output_type": "display_data"
    }
   ],
   "source": [
    "# convert deges to (1 2 weight) format in txt file\n",
    "df_edge['ID1'] = df_edge['ID1'].astype(str)\n",
    "df_edge['ID2'] = df_edge['ID2'].astype(str)\n",
    "# calculate weight, number of occurences of each edge\n",
    "df_edge['weight'] = df_edge.groupby(['ID1', 'ID2'])['ID1'].transform('count')\n",
    "display(df_edge.head())\n",
    "\n",
    "df_edge[['ID1', 'ID2', 'weight']].to_csv('oddball/converted_data/t_finance.txt', sep=' ', header=False, index=False)"
   ]
  },
  {
   "attachments": {},
   "cell_type": "markdown",
   "metadata": {},
   "source": [
    "## Run oddball"
   ]
  },
  {
   "attachments": {},
   "cell_type": "markdown",
   "metadata": {},
   "source": [
    "## Run\n",
    "The input is a weighted undirected graph which format is 'edge1 edge2 weight'.  \n",
    "### Options:  \n",
    "  --input: input file  \n",
    "  --output: output file  \n",
    "  --lof: Use LOF. 0: not use. 1: use. Default value is 0.  \n",
    "  --anomaly_type: Anomaly Type. 1:star_or_clique. 2:heavy_vicinity. 3:dominant_edge.\n",
    "\n",
    "You can use --help for more details.  \n",
    "Here is a sample.\n",
    "```\n",
    "python main.py --input inputFile --output outputFile --lof 0 --anomaly_type 1\n",
    "```"
   ]
  },
  {
   "cell_type": "code",
   "execution_count": 5,
   "metadata": {},
   "outputs": [],
   "source": [
    "!python oddball/code/main.py --input oddball/converted_data/t_finance.txt --output oddball/converted_data/result/output_type_2.txt --lof 0 --anomaly_type 2"
   ]
  }
 ],
 "metadata": {
  "kernelspec": {
   "display_name": ".venv",
   "language": "python",
   "name": "python3"
  },
  "language_info": {
   "codemirror_mode": {
    "name": "ipython",
    "version": 3
   },
   "file_extension": ".py",
   "mimetype": "text/x-python",
   "name": "python",
   "nbconvert_exporter": "python",
   "pygments_lexer": "ipython3",
   "version": "3.8.10"
  },
  "orig_nbformat": 4
 },
 "nbformat": 4,
 "nbformat_minor": 2
}
