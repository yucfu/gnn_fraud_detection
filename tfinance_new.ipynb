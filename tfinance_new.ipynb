{
 "cells": [
  {
   "cell_type": "code",
   "execution_count": 2,
   "metadata": {},
   "outputs": [],
   "source": [
    "import dgl\n",
    "import numpy as np\n",
    "import pandas as pd\n",
    "import torch\n",
    "\n",
    "from dgl.data.utils import load_graphs, save_graphs"
   ]
  },
  {
   "cell_type": "code",
   "execution_count": 5,
   "metadata": {},
   "outputs": [],
   "source": [
    "# !pip install dgl\n",
    "# !pip install torch_geometric"
   ]
  },
  {
   "cell_type": "code",
   "execution_count": 2,
   "metadata": {},
   "outputs": [],
   "source": [
    "# import os\n",
    "# os.environ['CUDA_LAUNCH_BLOCKING'] = '1'"
   ]
  },
  {
   "cell_type": "code",
   "execution_count": 4,
   "metadata": {},
   "outputs": [],
   "source": [
    "graph, label_dict = load_graphs('data/tfinance/tfinance')\n",
    "graph = graph[0]\n",
    "graph.ndata['label'] = graph.ndata['label'].argmax(1)"
   ]
  },
  {
   "cell_type": "code",
   "execution_count": 4,
   "metadata": {},
   "outputs": [
    {
     "data": {
      "text/plain": [
       "(tensor([    0,     0,     0,  ..., 39356, 39356, 39356]),\n",
       " tensor([20227,  1031, 26251,  ..., 34798, 35855, 36455]))"
      ]
     },
     "execution_count": 4,
     "metadata": {},
     "output_type": "execute_result"
    }
   ],
   "source": [
    "graph.edges()"
   ]
  },
  {
   "cell_type": "code",
   "execution_count": 5,
   "metadata": {},
   "outputs": [],
   "source": [
    "edges = pd.DataFrame({'ID1': graph.edges()[0], 'ID2': graph.edges()[1]})\n",
    "features = pd.DataFrame(graph.ndata['feature'].numpy(), columns=[f'feature{i+1}' for i in range(10)])\n",
    "labels = pd.DataFrame(graph.ndata['label'].numpy(), columns=['label'])"
   ]
  },
  {
   "cell_type": "code",
   "execution_count": 123,
   "metadata": {},
   "outputs": [
    {
     "name": "stdout",
     "output_type": "stream",
     "text": [
      "shape of edge index is torch.Size([2, 42445086])\n"
     ]
    }
   ],
   "source": [
    "# # edges = df_edges.copy()\n",
    "\n",
    "# # Reformat and convert to tensor\n",
    "# edge_index = np.array(edges.values).T \n",
    "# edge_index = torch.tensor(edge_index, dtype=torch.long).contiguous()\n",
    "\n",
    "# print(\"shape of edge index is {}\".format(edge_index.shape))"
   ]
  },
  {
   "cell_type": "code",
   "execution_count": 6,
   "metadata": {},
   "outputs": [
    {
     "data": {
      "text/html": [
       "<div>\n",
       "<style scoped>\n",
       "    .dataframe tbody tr th:only-of-type {\n",
       "        vertical-align: middle;\n",
       "    }\n",
       "\n",
       "    .dataframe tbody tr th {\n",
       "        vertical-align: top;\n",
       "    }\n",
       "\n",
       "    .dataframe thead th {\n",
       "        text-align: right;\n",
       "    }\n",
       "</style>\n",
       "<table border=\"1\" class=\"dataframe\">\n",
       "  <thead>\n",
       "    <tr style=\"text-align: right;\">\n",
       "      <th></th>\n",
       "      <th>feature1</th>\n",
       "      <th>feature2</th>\n",
       "      <th>feature3</th>\n",
       "      <th>feature4</th>\n",
       "      <th>feature5</th>\n",
       "      <th>feature6</th>\n",
       "      <th>feature7</th>\n",
       "      <th>feature8</th>\n",
       "      <th>feature9</th>\n",
       "      <th>feature10</th>\n",
       "    </tr>\n",
       "  </thead>\n",
       "  <tbody>\n",
       "    <tr>\n",
       "      <th>0</th>\n",
       "      <td>1296.0</td>\n",
       "      <td>259.0</td>\n",
       "      <td>2.0</td>\n",
       "      <td>12.0</td>\n",
       "      <td>36.0</td>\n",
       "      <td>52.0</td>\n",
       "      <td>14.0</td>\n",
       "      <td>40.0</td>\n",
       "      <td>0.229938</td>\n",
       "      <td>0.083333</td>\n",
       "    </tr>\n",
       "    <tr>\n",
       "      <th>1</th>\n",
       "      <td>1943.0</td>\n",
       "      <td>1838.0</td>\n",
       "      <td>312.0</td>\n",
       "      <td>72.0</td>\n",
       "      <td>34.0</td>\n",
       "      <td>491.0</td>\n",
       "      <td>6.0</td>\n",
       "      <td>486.0</td>\n",
       "      <td>0.091096</td>\n",
       "      <td>0.029336</td>\n",
       "    </tr>\n",
       "    <tr>\n",
       "      <th>2</th>\n",
       "      <td>2306.0</td>\n",
       "      <td>573.0</td>\n",
       "      <td>53.0</td>\n",
       "      <td>19.0</td>\n",
       "      <td>283.0</td>\n",
       "      <td>172.0</td>\n",
       "      <td>48.0</td>\n",
       "      <td>141.0</td>\n",
       "      <td>0.096704</td>\n",
       "      <td>0.022984</td>\n",
       "    </tr>\n",
       "    <tr>\n",
       "      <th>3</th>\n",
       "      <td>14.0</td>\n",
       "      <td>908.0</td>\n",
       "      <td>13.0</td>\n",
       "      <td>0.0</td>\n",
       "      <td>871.0</td>\n",
       "      <td>26.0</td>\n",
       "      <td>1.0</td>\n",
       "      <td>25.0</td>\n",
       "      <td>0.285714</td>\n",
       "      <td>0.071429</td>\n",
       "    </tr>\n",
       "    <tr>\n",
       "      <th>4</th>\n",
       "      <td>499.0</td>\n",
       "      <td>530.0</td>\n",
       "      <td>6.0</td>\n",
       "      <td>7.0</td>\n",
       "      <td>404.0</td>\n",
       "      <td>53.0</td>\n",
       "      <td>22.0</td>\n",
       "      <td>32.0</td>\n",
       "      <td>0.232465</td>\n",
       "      <td>0.146293</td>\n",
       "    </tr>\n",
       "    <tr>\n",
       "      <th>...</th>\n",
       "      <td>...</td>\n",
       "      <td>...</td>\n",
       "      <td>...</td>\n",
       "      <td>...</td>\n",
       "      <td>...</td>\n",
       "      <td>...</td>\n",
       "      <td>...</td>\n",
       "      <td>...</td>\n",
       "      <td>...</td>\n",
       "      <td>...</td>\n",
       "    </tr>\n",
       "    <tr>\n",
       "      <th>14995</th>\n",
       "      <td>367.0</td>\n",
       "      <td>244.0</td>\n",
       "      <td>27.0</td>\n",
       "      <td>17.0</td>\n",
       "      <td>26.0</td>\n",
       "      <td>66.0</td>\n",
       "      <td>7.0</td>\n",
       "      <td>61.0</td>\n",
       "      <td>0.564033</td>\n",
       "      <td>0.564033</td>\n",
       "    </tr>\n",
       "    <tr>\n",
       "      <th>14996</th>\n",
       "      <td>79.0</td>\n",
       "      <td>8587.0</td>\n",
       "      <td>3.0</td>\n",
       "      <td>5.0</td>\n",
       "      <td>8578.0</td>\n",
       "      <td>6.0</td>\n",
       "      <td>1.0</td>\n",
       "      <td>5.0</td>\n",
       "      <td>0.101266</td>\n",
       "      <td>0.025316</td>\n",
       "    </tr>\n",
       "    <tr>\n",
       "      <th>14997</th>\n",
       "      <td>329.0</td>\n",
       "      <td>1634.0</td>\n",
       "      <td>80.0</td>\n",
       "      <td>19.0</td>\n",
       "      <td>29.0</td>\n",
       "      <td>223.0</td>\n",
       "      <td>10.0</td>\n",
       "      <td>221.0</td>\n",
       "      <td>0.291793</td>\n",
       "      <td>0.188450</td>\n",
       "    </tr>\n",
       "    <tr>\n",
       "      <th>14998</th>\n",
       "      <td>133.0</td>\n",
       "      <td>7342.0</td>\n",
       "      <td>16.0</td>\n",
       "      <td>7.0</td>\n",
       "      <td>208.0</td>\n",
       "      <td>124.0</td>\n",
       "      <td>11.0</td>\n",
       "      <td>122.0</td>\n",
       "      <td>0.428571</td>\n",
       "      <td>0.300752</td>\n",
       "    </tr>\n",
       "    <tr>\n",
       "      <th>14999</th>\n",
       "      <td>440.0</td>\n",
       "      <td>1026.0</td>\n",
       "      <td>430.0</td>\n",
       "      <td>0.0</td>\n",
       "      <td>125.0</td>\n",
       "      <td>373.0</td>\n",
       "      <td>4.0</td>\n",
       "      <td>371.0</td>\n",
       "      <td>0.184091</td>\n",
       "      <td>0.047727</td>\n",
       "    </tr>\n",
       "  </tbody>\n",
       "</table>\n",
       "<p>15000 rows × 10 columns</p>\n",
       "</div>"
      ],
      "text/plain": [
       "       feature1  feature2  feature3  feature4  feature5  feature6  feature7  \\\n",
       "0        1296.0     259.0       2.0      12.0      36.0      52.0      14.0   \n",
       "1        1943.0    1838.0     312.0      72.0      34.0     491.0       6.0   \n",
       "2        2306.0     573.0      53.0      19.0     283.0     172.0      48.0   \n",
       "3          14.0     908.0      13.0       0.0     871.0      26.0       1.0   \n",
       "4         499.0     530.0       6.0       7.0     404.0      53.0      22.0   \n",
       "...         ...       ...       ...       ...       ...       ...       ...   \n",
       "14995     367.0     244.0      27.0      17.0      26.0      66.0       7.0   \n",
       "14996      79.0    8587.0       3.0       5.0    8578.0       6.0       1.0   \n",
       "14997     329.0    1634.0      80.0      19.0      29.0     223.0      10.0   \n",
       "14998     133.0    7342.0      16.0       7.0     208.0     124.0      11.0   \n",
       "14999     440.0    1026.0     430.0       0.0     125.0     373.0       4.0   \n",
       "\n",
       "       feature8  feature9  feature10  \n",
       "0          40.0  0.229938   0.083333  \n",
       "1         486.0  0.091096   0.029336  \n",
       "2         141.0  0.096704   0.022984  \n",
       "3          25.0  0.285714   0.071429  \n",
       "4          32.0  0.232465   0.146293  \n",
       "...         ...       ...        ...  \n",
       "14995      61.0  0.564033   0.564033  \n",
       "14996       5.0  0.101266   0.025316  \n",
       "14997     221.0  0.291793   0.188450  \n",
       "14998     122.0  0.428571   0.300752  \n",
       "14999     371.0  0.184091   0.047727  \n",
       "\n",
       "[15000 rows x 10 columns]"
      ]
     },
     "execution_count": 6,
     "metadata": {},
     "output_type": "execute_result"
    }
   ],
   "source": [
    "sample_size = 15000\n",
    "selected_nodes = features.sample(sample_size, random_state=42)\n",
    "selected_idx = list(selected_nodes.index)\n",
    "selected_nodes = selected_nodes.reset_index(drop=True)\n",
    "selected_nodes"
   ]
  },
  {
   "cell_type": "code",
   "execution_count": 7,
   "metadata": {},
   "outputs": [
    {
     "data": {
      "text/html": [
       "<div>\n",
       "<style scoped>\n",
       "    .dataframe tbody tr th:only-of-type {\n",
       "        vertical-align: middle;\n",
       "    }\n",
       "\n",
       "    .dataframe tbody tr th {\n",
       "        vertical-align: top;\n",
       "    }\n",
       "\n",
       "    .dataframe thead th {\n",
       "        text-align: right;\n",
       "    }\n",
       "</style>\n",
       "<table border=\"1\" class=\"dataframe\">\n",
       "  <thead>\n",
       "    <tr style=\"text-align: right;\">\n",
       "      <th></th>\n",
       "      <th>ID1</th>\n",
       "      <th>ID2</th>\n",
       "    </tr>\n",
       "  </thead>\n",
       "  <tbody>\n",
       "    <tr>\n",
       "      <th>0</th>\n",
       "      <td>0</td>\n",
       "      <td>20227</td>\n",
       "    </tr>\n",
       "    <tr>\n",
       "      <th>2</th>\n",
       "      <td>0</td>\n",
       "      <td>26251</td>\n",
       "    </tr>\n",
       "    <tr>\n",
       "      <th>4</th>\n",
       "      <td>0</td>\n",
       "      <td>1043</td>\n",
       "    </tr>\n",
       "    <tr>\n",
       "      <th>6</th>\n",
       "      <td>0</td>\n",
       "      <td>30363</td>\n",
       "    </tr>\n",
       "    <tr>\n",
       "      <th>8</th>\n",
       "      <td>0</td>\n",
       "      <td>28575</td>\n",
       "    </tr>\n",
       "    <tr>\n",
       "      <th>...</th>\n",
       "      <td>...</td>\n",
       "      <td>...</td>\n",
       "    </tr>\n",
       "    <tr>\n",
       "      <th>42445012</th>\n",
       "      <td>39355</td>\n",
       "      <td>28263</td>\n",
       "    </tr>\n",
       "    <tr>\n",
       "      <th>42445013</th>\n",
       "      <td>39355</td>\n",
       "      <td>29191</td>\n",
       "    </tr>\n",
       "    <tr>\n",
       "      <th>42445023</th>\n",
       "      <td>39355</td>\n",
       "      <td>33799</td>\n",
       "    </tr>\n",
       "    <tr>\n",
       "      <th>42445024</th>\n",
       "      <td>39355</td>\n",
       "      <td>34430</td>\n",
       "    </tr>\n",
       "    <tr>\n",
       "      <th>42445025</th>\n",
       "      <td>39355</td>\n",
       "      <td>35025</td>\n",
       "    </tr>\n",
       "  </tbody>\n",
       "</table>\n",
       "<p>6032438 rows × 2 columns</p>\n",
       "</div>"
      ],
      "text/plain": [
       "            ID1    ID2\n",
       "0             0  20227\n",
       "2             0  26251\n",
       "4             0   1043\n",
       "6             0  30363\n",
       "8             0  28575\n",
       "...         ...    ...\n",
       "42445012  39355  28263\n",
       "42445013  39355  29191\n",
       "42445023  39355  33799\n",
       "42445024  39355  34430\n",
       "42445025  39355  35025\n",
       "\n",
       "[6032438 rows x 2 columns]"
      ]
     },
     "execution_count": 7,
     "metadata": {},
     "output_type": "execute_result"
    }
   ],
   "source": [
    "selected_edges = edges[edges['ID1'].isin(selected_idx) & edges['ID2'].isin(selected_idx)]\n",
    "selected_edges"
   ]
  },
  {
   "cell_type": "code",
   "execution_count": 8,
   "metadata": {},
   "outputs": [
    {
     "data": {
      "text/html": [
       "<div>\n",
       "<style scoped>\n",
       "    .dataframe tbody tr th:only-of-type {\n",
       "        vertical-align: middle;\n",
       "    }\n",
       "\n",
       "    .dataframe tbody tr th {\n",
       "        vertical-align: top;\n",
       "    }\n",
       "\n",
       "    .dataframe thead th {\n",
       "        text-align: right;\n",
       "    }\n",
       "</style>\n",
       "<table border=\"1\" class=\"dataframe\">\n",
       "  <thead>\n",
       "    <tr style=\"text-align: right;\">\n",
       "      <th></th>\n",
       "      <th>label</th>\n",
       "    </tr>\n",
       "  </thead>\n",
       "  <tbody>\n",
       "    <tr>\n",
       "      <th>10013</th>\n",
       "      <td>0</td>\n",
       "    </tr>\n",
       "    <tr>\n",
       "      <th>15505</th>\n",
       "      <td>0</td>\n",
       "    </tr>\n",
       "    <tr>\n",
       "      <th>2351</th>\n",
       "      <td>0</td>\n",
       "    </tr>\n",
       "    <tr>\n",
       "      <th>39273</th>\n",
       "      <td>0</td>\n",
       "    </tr>\n",
       "    <tr>\n",
       "      <th>1451</th>\n",
       "      <td>0</td>\n",
       "    </tr>\n",
       "    <tr>\n",
       "      <th>...</th>\n",
       "      <td>...</td>\n",
       "    </tr>\n",
       "    <tr>\n",
       "      <th>34601</th>\n",
       "      <td>0</td>\n",
       "    </tr>\n",
       "    <tr>\n",
       "      <th>33792</th>\n",
       "      <td>0</td>\n",
       "    </tr>\n",
       "    <tr>\n",
       "      <th>29354</th>\n",
       "      <td>0</td>\n",
       "    </tr>\n",
       "    <tr>\n",
       "      <th>28539</th>\n",
       "      <td>0</td>\n",
       "    </tr>\n",
       "    <tr>\n",
       "      <th>30668</th>\n",
       "      <td>0</td>\n",
       "    </tr>\n",
       "  </tbody>\n",
       "</table>\n",
       "<p>15000 rows × 1 columns</p>\n",
       "</div>"
      ],
      "text/plain": [
       "       label\n",
       "10013      0\n",
       "15505      0\n",
       "2351       0\n",
       "39273      0\n",
       "1451       0\n",
       "...      ...\n",
       "34601      0\n",
       "33792      0\n",
       "29354      0\n",
       "28539      0\n",
       "30668      0\n",
       "\n",
       "[15000 rows x 1 columns]"
      ]
     },
     "execution_count": 8,
     "metadata": {},
     "output_type": "execute_result"
    }
   ],
   "source": [
    "selected_labels = labels.loc[selected_idx]\n",
    "selected_labels"
   ]
  },
  {
   "cell_type": "markdown",
   "metadata": {},
   "source": [
    "#### Convert to PyG"
   ]
  },
  {
   "cell_type": "code",
   "execution_count": 5,
   "metadata": {},
   "outputs": [],
   "source": [
    "selected_nodes = pd.read_csv('data/tfinance/selected_nodes.csv')\n",
    "selected_edges = pd.read_csv('data/tfinance/selected_edges.csv')\n",
    "selected_labels = pd.read_csv('data/tfinance/selected_labels.csv')"
   ]
  },
  {
   "cell_type": "code",
   "execution_count": 6,
   "metadata": {},
   "outputs": [],
   "source": [
    "import numpy as np\n",
    "import pandas as pd\n",
    "import torch\n",
    "from torch.nn import Linear, LayerNorm, ReLU, Dropout\n",
    "import torch.nn.functional as F\n",
    "import torch_geometric\n",
    "from torch_geometric.nn import ChebConv, NNConv, DeepGCNLayer, GATConv, DenseGCNConv, GCNConv, GraphConv\n",
    "from torch_geometric.data import Data, DataLoader\n",
    "from tqdm import tqdm\n",
    "from sklearn.metrics import roc_auc_score, f1_score, precision_score, recall_score, accuracy_score\n",
    "import scipy.sparse as sp\n",
    "from torch_geometric.loader import DataLoader as pyg_DataLoader\n",
    "\n",
    "\n",
    "import warnings\n",
    "warnings.filterwarnings(\"ignore\")"
   ]
  },
  {
   "cell_type": "code",
   "execution_count": null,
   "metadata": {},
   "outputs": [],
   "source": [
    "# # Setup trans ID to node ID mapping\n",
    "# nodes = list(features.index)\n",
    "# map_id = {selected_idx[i]:i for i in range(sample_size)} # mapping nodes to indexes\n",
    "\n",
    "# # Map transction IDs to node Ids\n",
    "# selected_edges.ID1 = selected_edges.ID1.map(map_id) #get nodes idx1 from edges list and filtered data\n",
    "# selected_edges.ID2 = selected_edges.ID2.map(map_id)\n",
    "# selected_edges = selected_edges.astype(int)\n",
    "\n",
    "# edge_index = np.array(selected_edges.values).T \n",
    "# edge_index = torch.tensor(edge_index, dtype=torch.long)\n",
    "# print(edge_index)\n",
    "\n",
    "# print(\"shape of edge index is {}\".format(edge_index.shape))\n",
    "\n",
    "# # node_features_t = torch.tensor(np.array(features.values, dtype=np.double), dtype=torch.double)\n",
    "# node_features_t = torch.tensor(np.array(selected_nodes.values, dtype=np.double), dtype=torch.double)\n",
    "\n",
    "# # Create pyG dataset\n",
    "# data_graph = Data(x=node_features_t.float(), edge_index=edge_index,\n",
    "#                                y=torch.tensor(selected_labels.values.flatten(), dtype=torch.long))"
   ]
  },
  {
   "cell_type": "code",
   "execution_count": 7,
   "metadata": {},
   "outputs": [
    {
     "name": "stdout",
     "output_type": "stream",
     "text": [
      "tensor([[12230, 12230, 12230,  ..., 10945, 10945, 10945],\n",
      "        [ 6579,  8455,   272,  ...,  8153,  6480,  9753]])\n",
      "shape of edge index is torch.Size([2, 6032438])\n"
     ]
    }
   ],
   "source": [
    "edge_index = np.array(selected_edges.values).T \n",
    "edge_index = torch.tensor(edge_index, dtype=torch.long)\n",
    "print(edge_index)\n",
    "\n",
    "print(\"shape of edge index is {}\".format(edge_index.shape))\n",
    "\n",
    "# node_features_t = torch.tensor(np.array(features.values, dtype=np.double), dtype=torch.double)\n",
    "node_features_t = torch.tensor(np.array(selected_nodes.values, dtype=np.double), dtype=torch.double)\n",
    "\n",
    "# Create pyG dataset\n",
    "data_graph = Data(x=node_features_t.float(), edge_index=edge_index,\n",
    "                               y=torch.tensor(selected_labels.values.flatten(), dtype=torch.long))"
   ]
  },
  {
   "cell_type": "code",
   "execution_count": 13,
   "metadata": {},
   "outputs": [],
   "source": [
    "# from sklearn.model_selection import train_test_split\n",
    "\n",
    "# # Split train, test\n",
    "# train_idx, test_idx = train_test_split(range(sample_size), test_size=0.3, random_state=42)\n",
    "\n",
    "# data_graph.train_idx = torch.zeros(sample_size, dtype=torch.bool)\n",
    "# data_graph.train_idx[train_idx] = 1\n",
    "\n",
    "# data_graph.test_idx = torch.zeros(sample_size, dtype=torch.bool)\n",
    "# data_graph.test_idx[test_idx] = 1"
   ]
  },
  {
   "cell_type": "code",
   "execution_count": 8,
   "metadata": {},
   "outputs": [],
   "source": [
    "sample_size = 15000\n",
    "\n",
    "train_idx = list(pd.read_csv('data/tfinance/index/train_idx.csv', names=['id']).values.flatten())\n",
    "test_idx = list(pd.read_csv('data/tfinance/index/test_idx.csv', names=['id']).values.flatten())\n",
    "\n",
    "data_graph.train_idx = torch.zeros(sample_size, dtype=torch.bool)\n",
    "data_graph.train_idx[train_idx] = 1\n",
    "\n",
    "data_graph.test_idx = torch.zeros(sample_size, dtype=torch.bool)\n",
    "data_graph.test_idx[test_idx] = 1"
   ]
  },
  {
   "cell_type": "code",
   "execution_count": 9,
   "metadata": {},
   "outputs": [],
   "source": [
    "# 2-layer GCN\n",
    "class GCN(torch.nn.Module):\n",
    "    def __init__(self, num_features, num_classes, hidden_channels=128):\n",
    "        super(GCN, self).__init__()\n",
    "        self.conv1 = GCNConv(num_features, hidden_channels)\n",
    "        self.conv2 = GCNConv(hidden_channels, num_classes)\n",
    "        \n",
    "    def forward(self, x, edge_index):\n",
    "        x = self.conv1(x, edge_index)\n",
    "        x = self.conv2(x, edge_index)\n",
    "        return x"
   ]
  },
  {
   "cell_type": "code",
   "execution_count": 10,
   "metadata": {},
   "outputs": [
    {
     "data": {
      "text/plain": [
       "device(type='cuda')"
      ]
     },
     "execution_count": 10,
     "metadata": {},
     "output_type": "execute_result"
    }
   ],
   "source": [
    "device = torch.device('cuda' if torch.cuda.is_available() else 'cpu')\n",
    "# device = 'cpu'\n",
    "device"
   ]
  },
  {
   "cell_type": "code",
   "execution_count": 11,
   "metadata": {},
   "outputs": [],
   "source": [
    "# CLASS_WEIGTHS = [0.7,0.3]\n",
    "\n",
    "def train(model, data, optimizer):\n",
    "    model.train()\n",
    "    data = data.to(device)\n",
    "    optimizer.zero_grad()\n",
    "    out = model(data.x, data.edge_index)\n",
    "    # out = out.reshape((data.x.shape[0]))\n",
    "    # # use weighted cross entropy loss, weighted cross entropy loss to provide higher importance to the illicit samples.\n",
    "    # weights = torch.tensor(CLASS_WEIGTHS, dtype=torch.float).to(device)\n",
    "    # loss = F.cross_entropy(out[data.train_idx], data.y[data.train_idx], weight=weights)\n",
    "    \n",
    "    loss = F.cross_entropy(out[data.train_idx], data.y[data.train_idx])\n",
    "    loss.backward()\n",
    "    optimizer.step()\n",
    "    return loss\n",
    "\n",
    "def test(model, data):\n",
    "    model.eval()\n",
    "    with torch.no_grad():\n",
    "        data = data.to(device)\n",
    "        out = model(data.x, data.edge_index)\n",
    "        pred_scores = out[data.test_idx]\n",
    "        pred = torch.argmax(pred_scores, dim=1)\n",
    "        y = data.y[data.test_idx]\n",
    "        # metrics for illicit transactions\n",
    "        acc = accuracy_score(y.cpu(), pred.cpu())\n",
    "        f1 = f1_score(y.cpu(), pred.cpu(), average='binary')\n",
    "        precision = precision_score(y.cpu(), pred.cpu(), average='binary')\n",
    "        recall = recall_score(y.cpu(), pred.cpu(), average='binary')\n",
    "        auc = roc_auc_score(y.cpu(), pred_scores[:,1].cpu())\n",
    "        return acc, f1, precision, recall, auc"
   ]
  },
  {
   "cell_type": "code",
   "execution_count": 14,
   "metadata": {},
   "outputs": [
    {
     "name": "stdout",
     "output_type": "stream",
     "text": [
      "num_features= 10\n"
     ]
    }
   ],
   "source": [
    "num_features = data_graph.num_node_features\n",
    "print(\"num_features=\",num_features)"
   ]
  },
  {
   "cell_type": "code",
   "execution_count": 15,
   "metadata": {},
   "outputs": [
    {
     "name": "stdout",
     "output_type": "stream",
     "text": [
      "Epoch: 000, Loss: 359.1430, Accuracy: 0.0700, F1: 0.0916, Precision:  0.0481, Recall: 0.9769, ROC: 0.8744\n",
      "Epoch: 010, Loss: 24.7312, Accuracy: 0.9520, F1: 0.0000, Precision:  0.0000, Recall: 0.0000, ROC: 0.8263\n",
      "Epoch: 020, Loss: 30.3834, Accuracy: 0.9520, F1: 0.0000, Precision:  0.0000, Recall: 0.0000, ROC: 0.8230\n",
      "Epoch: 030, Loss: 28.4092, Accuracy: 0.9520, F1: 0.0000, Precision:  0.0000, Recall: 0.0000, ROC: 0.8265\n",
      "Epoch: 040, Loss: 23.0391, Accuracy: 0.9520, F1: 0.0000, Precision:  0.0000, Recall: 0.0000, ROC: 0.8347\n",
      "Epoch: 050, Loss: 15.8707, Accuracy: 0.9522, F1: 0.0183, Precision:  0.6667, Recall: 0.0093, ROC: 0.8485\n",
      "Epoch: 060, Loss: 7.5989, Accuracy: 0.9549, F1: 0.1212, Precision:  0.9333, Recall: 0.0648, ROC: 0.8700\n",
      "Epoch: 070, Loss: 3.4156, Accuracy: 0.9589, F1: 0.6122, Precision:  0.5594, Recall: 0.6759, ROC: 0.8745\n",
      "Epoch: 080, Loss: 2.2003, Accuracy: 0.9556, F1: 0.1597, Precision:  0.8636, Recall: 0.0880, ROC: 0.8761\n",
      "Epoch: 090, Loss: 0.7945, Accuracy: 0.9696, F1: 0.5861, Precision:  0.8435, Recall: 0.4491, ROC: 0.8754\n",
      "Epoch: 100, Loss: 0.6687, Accuracy: 0.9447, F1: 0.5481, Precision:  0.4507, Recall: 0.6991, ROC: 0.8745\n",
      "Epoch: 110, Loss: 0.5542, Accuracy: 0.9149, F1: 0.4521, Precision:  0.3271, Recall: 0.7315, ROC: 0.8745\n",
      "Epoch: 120, Loss: 0.4378, Accuracy: 0.9387, F1: 0.5241, Precision:  0.4176, Recall: 0.7037, ROC: 0.8746\n",
      "Epoch: 130, Loss: 0.3426, Accuracy: 0.9596, F1: 0.6224, Precision:  0.5639, Recall: 0.6944, ROC: 0.8747\n",
      "Epoch: 140, Loss: 0.2944, Accuracy: 0.9649, F1: 0.6550, Precision:  0.6198, Recall: 0.6944, ROC: 0.8747\n",
      "Epoch: 150, Loss: 0.2432, Accuracy: 0.9556, F1: 0.6063, Precision:  0.5274, Recall: 0.7130, ROC: 0.8746\n",
      "Epoch: 160, Loss: 0.2151, Accuracy: 0.9682, F1: 0.6815, Precision:  0.6567, Recall: 0.7083, ROC: 0.8745\n",
      "Epoch: 170, Loss: 0.1993, Accuracy: 0.9713, F1: 0.6979, Precision:  0.7062, Recall: 0.6898, ROC: 0.8744\n",
      "Epoch: 180, Loss: 0.1934, Accuracy: 0.9687, F1: 0.6817, Precision:  0.6652, Recall: 0.6991, ROC: 0.8743\n",
      "Epoch: 190, Loss: 0.1853, Accuracy: 0.9676, F1: 0.6770, Precision:  0.6483, Recall: 0.7083, ROC: 0.8742\n",
      "Epoch: 200, Loss: 0.1804, Accuracy: 0.9673, F1: 0.6741, Precision:  0.6468, Recall: 0.7037, ROC: 0.8741\n"
     ]
    }
   ],
   "source": [
    "model = GCN(num_features, 2).to(device)\n",
    "num_epochs = 200\n",
    "lr = 0.001\n",
    "optimizer = torch.optim.Adam(model.parameters(), lr=lr)\n",
    "\n",
    "for epoch in range(num_epochs+1):\n",
    "    loss = train(model, data_graph, optimizer)\n",
    "    acc, f1, precision, recall, roc = test(model, data_graph)\n",
    "    if epoch % 10 == 0:\n",
    "        print(f'Epoch: {epoch:03d}, Loss: {loss:.4f}, Accuracy: {acc:.4f}, F1: {f1:.4f}, Precision: {precision: .4f}, Recall: {recall:.4f}, ROC: {roc:.4f}')"
   ]
  },
  {
   "cell_type": "code",
   "execution_count": null,
   "metadata": {
    "collapsed": true,
    "jupyter": {
     "outputs_hidden": true
    },
    "tags": []
   },
   "outputs": [
    {
     "name": "stdout",
     "output_type": "stream",
     "text": [
      "Epoch: 000, Loss: 24.7148, Accuracy: 0.8564, F1: 0.3257, Precision:  0.2102, Recall: 0.7222, ROC: 0.7950\n",
      "Epoch: 010, Loss: 7.5329, Accuracy: 0.9549, F1: 0.1288, Precision:  0.8824, Recall: 0.0694, ROC: 0.7928\n",
      "Epoch: 020, Loss: 5.0966, Accuracy: 0.9569, F1: 0.2595, Precision:  0.7391, Recall: 0.1574, ROC: 0.7940\n",
      "Epoch: 030, Loss: 3.3322, Accuracy: 0.8349, F1: 0.2984, Precision:  0.1874, Recall: 0.7315, ROC: 0.7955\n",
      "Epoch: 040, Loss: 2.4656, Accuracy: 0.9642, F1: 0.5774, Precision:  0.6667, Recall: 0.5093, ROC: 0.7920\n",
      "Epoch: 050, Loss: 1.9216, Accuracy: 0.8989, F1: 0.4021, Precision:  0.2807, Recall: 0.7083, ROC: 0.7902\n",
      "Epoch: 060, Loss: 1.7070, Accuracy: 0.9509, F1: 0.5288, Precision:  0.4901, Recall: 0.5741, ROC: 0.7872\n",
      "Epoch: 070, Loss: 1.4871, Accuracy: 0.9327, F1: 0.4749, Precision:  0.3795, Recall: 0.6343, ROC: 0.7848\n",
      "Epoch: 080, Loss: 1.3023, Accuracy: 0.9342, F1: 0.4789, Precision:  0.3864, Recall: 0.6296, ROC: 0.7829\n",
      "Epoch: 090, Loss: 1.1241, Accuracy: 0.9409, F1: 0.4962, Precision:  0.4199, Recall: 0.6065, ROC: 0.7814\n",
      "Epoch: 100, Loss: 0.9387, Accuracy: 0.9433, F1: 0.5124, Precision:  0.4365, Recall: 0.6204, ROC: 0.7797\n",
      "Epoch: 110, Loss: 0.7527, Accuracy: 0.9438, F1: 0.5199, Precision:  0.4405, Recall: 0.6343, ROC: 0.7777\n",
      "Epoch: 120, Loss: 0.5710, Accuracy: 0.9424, F1: 0.5141, Precision:  0.4322, Recall: 0.6343, ROC: 0.7755\n",
      "Epoch: 130, Loss: 0.4220, Accuracy: 0.9564, F1: 0.5882, Precision:  0.5385, Recall: 0.6481, ROC: 0.7740\n",
      "Epoch: 140, Loss: 0.3447, Accuracy: 0.9622, F1: 0.6304, Precision:  0.5943, Recall: 0.6713, ROC: 0.7731\n",
      "Epoch: 150, Loss: 0.3040, Accuracy: 0.9656, F1: 0.6517, Precision:  0.6332, Recall: 0.6713, ROC: 0.7722\n",
      "Epoch: 160, Loss: 0.2763, Accuracy: 0.9664, F1: 0.6560, Precision:  0.6457, Recall: 0.6667, ROC: 0.7716\n",
      "Epoch: 170, Loss: 0.2546, Accuracy: 0.9673, F1: 0.6541, Precision:  0.6651, Recall: 0.6435, ROC: 0.7710\n",
      "Epoch: 180, Loss: 0.2312, Accuracy: 0.9682, F1: 0.6619, Precision:  0.6763, Recall: 0.6481, ROC: 0.7705\n",
      "Epoch: 190, Loss: 0.2136, Accuracy: 0.9604, F1: 0.6245, Precision:  0.5736, Recall: 0.6852, ROC: 0.7699\n",
      "Epoch: 200, Loss: 0.1938, Accuracy: 0.9764, F1: 0.7211, Precision:  0.8354, Recall: 0.6343, ROC: 0.7693\n",
      "Epoch: 210, Loss: 0.1748, Accuracy: 0.9753, F1: 0.7176, Precision:  0.7966, Recall: 0.6528, ROC: 0.7687\n",
      "Epoch: 220, Loss: 0.1576, Accuracy: 0.9751, F1: 0.7172, Precision:  0.7889, Recall: 0.6574, ROC: 0.7684\n",
      "Epoch: 230, Loss: 0.1519, Accuracy: 0.9744, F1: 0.7174, Precision:  0.7644, Recall: 0.6759, ROC: 0.7680\n",
      "Epoch: 240, Loss: 0.2300, Accuracy: 0.9556, F1: 0.1453, Precision:  0.9444, Recall: 0.0787, ROC: 0.7680\n",
      "Epoch: 250, Loss: 7.0570, Accuracy: 0.9549, F1: 0.1212, Precision:  0.9333, Recall: 0.0648, ROC: 0.7703\n",
      "Epoch: 260, Loss: 18.1190, Accuracy: 0.9520, F1: 0.0000, Precision:  0.0000, Recall: 0.0000, ROC: 0.7788\n",
      "Epoch: 270, Loss: 17.9435, Accuracy: 0.9520, F1: 0.0000, Precision:  0.0000, Recall: 0.0000, ROC: 0.7813\n",
      "Epoch: 280, Loss: 11.1026, Accuracy: 0.9549, F1: 0.1212, Precision:  0.9333, Recall: 0.0648, ROC: 0.7835\n",
      "Epoch: 290, Loss: 1.9796, Accuracy: 0.9276, F1: 0.4585, Precision:  0.3575, Recall: 0.6389, ROC: 0.7865\n",
      "Epoch: 300, Loss: 2.8542, Accuracy: 0.9556, F1: 0.1453, Precision:  0.9444, Recall: 0.0787, ROC: 0.7839\n",
      "Epoch: 310, Loss: 1.7953, Accuracy: 0.8987, F1: 0.3952, Precision:  0.2770, Recall: 0.6898, ROC: 0.7827\n",
      "Epoch: 320, Loss: 0.8963, Accuracy: 0.9380, F1: 0.5114, Precision:  0.4113, Recall: 0.6759, ROC: 0.7798\n",
      "Epoch: 330, Loss: 0.6761, Accuracy: 0.9596, F1: 0.6043, Precision:  0.5697, Recall: 0.6435, ROC: 0.7764\n",
      "Epoch: 340, Loss: 0.4440, Accuracy: 0.9422, F1: 0.5307, Precision:  0.4349, Recall: 0.6806, ROC: 0.7731\n",
      "Epoch: 350, Loss: 0.3653, Accuracy: 0.9338, F1: 0.5017, Precision:  0.3927, Recall: 0.6944, ROC: 0.7714\n",
      "Epoch: 360, Loss: 0.2619, Accuracy: 0.9631, F1: 0.6376, Precision:  0.6033, Recall: 0.6759, ROC: 0.7709\n",
      "Epoch: 370, Loss: 0.1942, Accuracy: 0.9642, F1: 0.6508, Precision:  0.6122, Recall: 0.6944, ROC: 0.7695\n",
      "Epoch: 380, Loss: 0.1573, Accuracy: 0.9764, F1: 0.7282, Precision:  0.8161, Recall: 0.6574, ROC: 0.7685\n",
      "Epoch: 390, Loss: 0.1516, Accuracy: 0.9778, F1: 0.7253, Precision:  0.8919, Recall: 0.6111, ROC: 0.7682\n",
      "Epoch: 400, Loss: 0.1423, Accuracy: 0.9744, F1: 0.7174, Precision:  0.7644, Recall: 0.6759, ROC: 0.7680\n",
      "Epoch: 410, Loss: 0.1409, Accuracy: 0.9773, F1: 0.7302, Precision:  0.8519, Recall: 0.6389, ROC: 0.7679\n",
      "Epoch: 420, Loss: 0.1380, Accuracy: 0.9782, F1: 0.7322, Precision:  0.8933, Recall: 0.6204, ROC: 0.7679\n",
      "Epoch: 430, Loss: 0.1356, Accuracy: 0.9760, F1: 0.7202, Precision:  0.8176, Recall: 0.6435, ROC: 0.7677\n",
      "Epoch: 440, Loss: 0.1359, Accuracy: 0.9773, F1: 0.7135, Precision:  0.9071, Recall: 0.5880, ROC: 0.7677\n",
      "Epoch: 450, Loss: 0.1349, Accuracy: 0.9778, F1: 0.7253, Precision:  0.8919, Recall: 0.6111, ROC: 0.7676\n",
      "Epoch: 460, Loss: 0.1343, Accuracy: 0.9764, F1: 0.7022, Precision:  0.8929, Recall: 0.5787, ROC: 0.7676\n",
      "Epoch: 470, Loss: 0.1351, Accuracy: 0.9764, F1: 0.7240, Precision:  0.8274, Recall: 0.6435, ROC: 0.7676\n",
      "Epoch: 480, Loss: 0.1340, Accuracy: 0.9760, F1: 0.7000, Precision:  0.8750, Recall: 0.5833, ROC: 0.7675\n",
      "Epoch: 490, Loss: 0.1338, Accuracy: 0.9764, F1: 0.7039, Precision:  0.8873, Recall: 0.5833, ROC: 0.7675\n",
      "Epoch: 500, Loss: 0.1336, Accuracy: 0.9762, F1: 0.7162, Precision:  0.8385, Recall: 0.6250, ROC: 0.7675\n",
      "Epoch: 510, Loss: 0.1336, Accuracy: 0.9764, F1: 0.7196, Precision:  0.8395, Recall: 0.6296, ROC: 0.7675\n",
      "Epoch: 520, Loss: 0.1334, Accuracy: 0.9744, F1: 0.6724, Precision:  0.8741, Recall: 0.5463, ROC: 0.7674\n",
      "Epoch: 530, Loss: 0.1333, Accuracy: 0.9762, F1: 0.7084, Precision:  0.8609, Recall: 0.6019, ROC: 0.7674\n",
      "Epoch: 540, Loss: 0.1332, Accuracy: 0.9760, F1: 0.7033, Precision:  0.8649, Recall: 0.5926, ROC: 0.7674\n",
      "Epoch: 550, Loss: 0.1335, Accuracy: 0.9767, F1: 0.7075, Precision:  0.8881, Recall: 0.5880, ROC: 0.7674\n",
      "Epoch: 560, Loss: 0.1332, Accuracy: 0.9764, F1: 0.7022, Precision:  0.8929, Recall: 0.5787, ROC: 0.7674\n",
      "Epoch: 570, Loss: 0.1332, Accuracy: 0.9764, F1: 0.7039, Precision:  0.8873, Recall: 0.5833, ROC: 0.7674\n",
      "Epoch: 580, Loss: 0.1338, Accuracy: 0.9769, F1: 0.7079, Precision:  0.9000, Recall: 0.5833, ROC: 0.7674\n",
      "Epoch: 590, Loss: 0.1342, Accuracy: 0.9762, F1: 0.6952, Precision:  0.9037, Recall: 0.5648, ROC: 0.7674\n",
      "Epoch: 600, Loss: 0.1331, Accuracy: 0.9756, F1: 0.6839, Precision:  0.9015, Recall: 0.5509, ROC: 0.7674\n",
      "Epoch: 610, Loss: 0.1330, Accuracy: 0.9760, F1: 0.6932, Precision:  0.8971, Recall: 0.5648, ROC: 0.7674\n",
      "Epoch: 620, Loss: 0.1347, Accuracy: 0.9771, F1: 0.7099, Precision:  0.9065, Recall: 0.5833, ROC: 0.7674\n",
      "Epoch: 630, Loss: 0.1356, Accuracy: 0.9753, F1: 0.6783, Precision:  0.9070, Recall: 0.5417, ROC: 0.7674\n",
      "Epoch: 640, Loss: 0.1371, Accuracy: 0.9751, F1: 0.6744, Precision:  0.9062, Recall: 0.5370, ROC: 0.7674\n",
      "Epoch: 650, Loss: 0.1389, Accuracy: 0.9749, F1: 0.6667, Precision:  0.9187, Recall: 0.5231, ROC: 0.7674\n",
      "Epoch: 660, Loss: 0.1364, Accuracy: 0.9747, F1: 0.6627, Precision:  0.9180, Recall: 0.5185, ROC: 0.7674\n",
      "Epoch: 670, Loss: 0.1361, Accuracy: 0.9756, F1: 0.6821, Precision:  0.9077, Recall: 0.5463, ROC: 0.7674\n",
      "Epoch: 680, Loss: 0.1396, Accuracy: 0.9747, F1: 0.7206, Precision:  0.7656, Recall: 0.6806, ROC: 0.7675\n",
      "Epoch: 690, Loss: 0.1375, Accuracy: 0.9702, F1: 0.6898, Precision:  0.6898, Recall: 0.6898, ROC: 0.7674\n",
      "Epoch: 700, Loss: 0.1344, Accuracy: 0.9729, F1: 0.7067, Precision:  0.7350, Recall: 0.6806, ROC: 0.7673\n",
      "Epoch: 710, Loss: 0.1323, Accuracy: 0.9733, F1: 0.7087, Precision:  0.7449, Recall: 0.6759, ROC: 0.7674\n",
      "Epoch: 720, Loss: 0.1382, Accuracy: 0.9778, F1: 0.7354, Precision:  0.8580, Recall: 0.6435, ROC: 0.7676\n",
      "Epoch: 730, Loss: 0.1536, Accuracy: 0.9733, F1: 0.6319, Precision:  0.9364, Recall: 0.4769, ROC: 0.7676\n",
      "Epoch: 740, Loss: 0.1521, Accuracy: 0.9662, F1: 0.4685, Precision:  0.9571, Recall: 0.3102, ROC: 0.7674\n",
      "Epoch: 750, Loss: 0.1380, Accuracy: 0.9733, F1: 0.6364, Precision:  0.9211, Recall: 0.4861, ROC: 0.7674\n",
      "Epoch: 760, Loss: 0.1329, Accuracy: 0.9747, F1: 0.6647, Precision:  0.9113, Recall: 0.5231, ROC: 0.7676\n",
      "Epoch: 770, Loss: 0.1578, Accuracy: 0.9698, F1: 0.5497, Precision:  0.9651, Recall: 0.3843, ROC: 0.7676\n",
      "Epoch: 780, Loss: 0.1352, Accuracy: 0.9749, F1: 0.6667, Precision:  0.9187, Recall: 0.5231, ROC: 0.7676\n",
      "Epoch: 790, Loss: 0.1395, Accuracy: 0.9762, F1: 0.6934, Precision:  0.9098, Recall: 0.5602, ROC: 0.7675\n",
      "Epoch: 800, Loss: 0.1981, Accuracy: 0.9598, F1: 0.2902, Precision:  0.9487, Recall: 0.1713, ROC: 0.7676\n",
      "Epoch: 810, Loss: 3.6154, Accuracy: 0.9549, F1: 0.1212, Precision:  0.9333, Recall: 0.0648, ROC: 0.7712\n",
      "Epoch: 820, Loss: 1.5538, Accuracy: 0.9549, F1: 0.1212, Precision:  0.9333, Recall: 0.0648, ROC: 0.7717\n",
      "Epoch: 830, Loss: 1.6452, Accuracy: 0.9551, F1: 0.1293, Precision:  0.9375, Recall: 0.0694, ROC: 0.7715\n",
      "Epoch: 840, Loss: 8.7401, Accuracy: 0.9520, F1: 0.0092, Precision:  0.5000, Recall: 0.0046, ROC: 0.7756\n",
      "Epoch: 850, Loss: 9.1904, Accuracy: 0.9549, F1: 0.1212, Precision:  0.9333, Recall: 0.0648, ROC: 0.7776\n",
      "Epoch: 860, Loss: 4.3887, Accuracy: 0.7647, F1: 0.2430, Precision:  0.1437, Recall: 0.7870, ROC: 0.7783\n",
      "Epoch: 870, Loss: 2.1816, Accuracy: 0.9558, F1: 0.1532, Precision:  0.9474, Recall: 0.0833, ROC: 0.7767\n",
      "Epoch: 880, Loss: 1.2515, Accuracy: 0.9584, F1: 0.2667, Precision:  0.8718, Recall: 0.1574, ROC: 0.7747\n",
      "Epoch: 890, Loss: 1.1807, Accuracy: 0.9584, F1: 0.2550, Precision:  0.9143, Recall: 0.1481, ROC: 0.7736\n",
      "Epoch: 900, Loss: 0.5865, Accuracy: 0.9729, F1: 0.6685, Precision:  0.8092, Recall: 0.5694, ROC: 0.7732\n",
      "Epoch: 910, Loss: 0.2913, Accuracy: 0.7640, F1: 0.2500, Precision:  0.1475, Recall: 0.8194, ROC: 0.7723\n",
      "Epoch: 920, Loss: 0.6747, Accuracy: 0.9698, F1: 0.5556, Precision:  0.9444, Recall: 0.3935, ROC: 0.7718\n",
      "Epoch: 930, Loss: 0.5035, Accuracy: 0.9551, F1: 0.1293, Precision:  0.9375, Recall: 0.0694, ROC: 0.7720\n",
      "Epoch: 940, Loss: 0.2909, Accuracy: 0.9669, F1: 0.4808, Precision:  0.9718, Recall: 0.3194, ROC: 0.7722\n",
      "Epoch: 950, Loss: 1.6074, Accuracy: 0.9549, F1: 0.1212, Precision:  0.9333, Recall: 0.0648, ROC: 0.7722\n",
      "Epoch: 960, Loss: 2.3591, Accuracy: 0.9549, F1: 0.1212, Precision:  0.9333, Recall: 0.0648, ROC: 0.7739\n",
      "Epoch: 970, Loss: 3.7688, Accuracy: 0.9549, F1: 0.1212, Precision:  0.9333, Recall: 0.0648, ROC: 0.7762\n",
      "Epoch: 980, Loss: 1.5740, Accuracy: 0.9551, F1: 0.1293, Precision:  0.9375, Recall: 0.0694, ROC: 0.7761\n",
      "Epoch: 990, Loss: 0.6596, Accuracy: 0.9611, F1: 0.3295, Precision:  0.9556, Recall: 0.1991, ROC: 0.7748\n"
     ]
    }
   ],
   "source": [
    "model = GCN(num_features, 2).to(device)\n",
    "num_epochs = 1000\n",
    "lr = 0.0005\n",
    "optimizer = torch.optim.Adam(model.parameters(), lr=lr)\n",
    "\n",
    "for epoch in range(num_epochs+1):\n",
    "    loss = train(model, data_graph, optimizer)\n",
    "    acc, f1, precision, recall, roc = test(model, data_graph)\n",
    "    if epoch % 10 == 0:\n",
    "        print(f'Epoch: {epoch:03d}, Loss: {loss:.4f}, Accuracy: {acc:.4f}, F1: {f1:.4f}, Precision: {precision: .4f}, Recall: {recall:.4f}, ROC: {roc:.4f}')"
   ]
  },
  {
   "cell_type": "code",
   "execution_count": 60,
   "metadata": {},
   "outputs": [],
   "source": [
    "# selected_edges.to_csv('data/tfinance/selected_edges.csv', index=False)\n",
    "# selected_nodes.to_csv('data/tfinance/selected_nodes.csv', index=False)\n",
    "# selected_labels.to_csv('data/tfinance/selected_labels.csv', index=False)"
   ]
  },
  {
   "cell_type": "code",
   "execution_count": 64,
   "metadata": {},
   "outputs": [],
   "source": [
    "# # save the train and test indices as csv, integer\n",
    "# np.savetxt(\"data/tfinance/index/train_idx.csv\", train_idx, delimiter=\",\", fmt='%d')\n",
    "# np.savetxt(\"data/tfinance/index/test_idx.csv\", test_idx, delimiter=\",\", fmt='%d')"
   ]
  },
  {
   "cell_type": "markdown",
   "metadata": {
    "tags": []
   },
   "source": [
    "#### Random Forest"
   ]
  },
  {
   "cell_type": "code",
   "execution_count": 39,
   "metadata": {},
   "outputs": [],
   "source": [
    "# train_idx = pd.read_csv('data/tfinance/index/train_idx.csv', names=['id'])\n",
    "# test_idx = pd.read_csv('data/tfinance/index/test_idx.csv', names=['id'])\n",
    "\n",
    "X_train = selected_nodes.loc[train_idx]\n",
    "y_train = selected_labels.loc[train_idx]\n",
    "\n",
    "X_test = selected_nodes.loc[test_idx]\n",
    "y_test = selected_labels.loc[test_idx]"
   ]
  },
  {
   "cell_type": "code",
   "execution_count": 44,
   "metadata": {},
   "outputs": [
    {
     "data": {
      "text/plain": [
       "RandomForestClassifier(bootstrap=True, ccp_alpha=0.0, class_weight=None,\n",
       "                       criterion='gini', max_depth=None, max_features='auto',\n",
       "                       max_leaf_nodes=None, max_samples=None,\n",
       "                       min_impurity_decrease=0.0, min_impurity_split=None,\n",
       "                       min_samples_leaf=1, min_samples_split=2,\n",
       "                       min_weight_fraction_leaf=0.0, n_estimators=100,\n",
       "                       n_jobs=None, oob_score=False, random_state=42, verbose=0,\n",
       "                       warm_start=False)"
      ]
     },
     "execution_count": 44,
     "metadata": {},
     "output_type": "execute_result"
    }
   ],
   "source": [
    "from sklearn.ensemble import RandomForestClassifier\n",
    "\n",
    "rf = RandomForestClassifier(random_state=42)\n",
    "\n",
    "# Train the classifier\n",
    "rf.fit(X_train.reset_index(drop=True), y_train.reset_index(drop=True))"
   ]
  },
  {
   "cell_type": "code",
   "execution_count": 45,
   "metadata": {},
   "outputs": [
    {
     "name": "stdout",
     "output_type": "stream",
     "text": [
      "Accuracy:  0.9806666666666667\n",
      "F1:        0.7679999999999999\n",
      "Precision: 0.9056603773584906\n",
      "Recall:    0.6666666666666666\n",
      "ROC AUC:   0.9467835745409274\n"
     ]
    }
   ],
   "source": [
    "# Make predictions on the test set\n",
    "y_pred = rf.predict(X_test)\n",
    "\n",
    "# Calculate accuracy\n",
    "accuracy = accuracy_score(y_test, y_pred)\n",
    "f1 = f1_score(y_test, y_pred, average='binary')\n",
    "precision = precision_score(y_test, y_pred, average='binary')\n",
    "recall = recall_score(y_test, y_pred, average='binary')\n",
    "rocauc = roc_auc_score(y_test, rf.predict_proba(X_test)[:, 1])\n",
    "\n",
    "print(\"Accuracy: \", accuracy)\n",
    "print(\"F1:       \", f1)\n",
    "print(\"Precision:\", precision)\n",
    "print(\"Recall:   \", recall)\n",
    "print(\"ROC AUC:  \", rocauc)"
   ]
  },
  {
   "cell_type": "markdown",
   "metadata": {},
   "source": [
    "#### GAT"
   ]
  },
  {
   "cell_type": "code",
   "execution_count": null,
   "metadata": {},
   "outputs": [],
   "source": [
    "class "
   ]
  },
  {
   "cell_type": "code",
   "execution_count": null,
   "metadata": {},
   "outputs": [],
   "source": []
  },
  {
   "cell_type": "code",
   "execution_count": null,
   "metadata": {},
   "outputs": [],
   "source": []
  },
  {
   "cell_type": "code",
   "execution_count": null,
   "metadata": {},
   "outputs": [],
   "source": []
  },
  {
   "cell_type": "code",
   "execution_count": null,
   "metadata": {},
   "outputs": [],
   "source": []
  },
  {
   "cell_type": "code",
   "execution_count": null,
   "metadata": {},
   "outputs": [],
   "source": []
  }
 ],
 "metadata": {
  "kernelspec": {
   "display_name": "Python 3",
   "language": "python",
   "name": "python3"
  },
  "language_info": {
   "codemirror_mode": {
    "name": "ipython",
    "version": 3
   },
   "file_extension": ".py",
   "mimetype": "text/x-python",
   "name": "python",
   "nbconvert_exporter": "python",
   "pygments_lexer": "ipython3",
   "version": "3.8.10"
  }
 },
 "nbformat": 4,
 "nbformat_minor": 2
}
